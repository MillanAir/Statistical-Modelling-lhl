{
 "cells": [
  {
   "cell_type": "markdown",
   "metadata": {},
   "source": [
    "# CityBikes"
   ]
  },
  {
   "cell_type": "markdown",
   "metadata": {},
   "source": [
    "Send a request to CityBikes for the city of your choice. "
   ]
  },
  {
   "attachments": {},
   "cell_type": "markdown",
   "metadata": {},
   "source": [
    "Importing the rquired libraries"
   ]
  },
  {
   "cell_type": "code",
   "execution_count": 1,
   "metadata": {},
   "outputs": [],
   "source": [
    "# import pandas, numpy \n",
    "import pandas as pd\n",
    "import numpy as np\n",
    "import requests"
   ]
  },
  {
   "attachments": {},
   "cell_type": "markdown",
   "metadata": {},
   "source": [
    "Parse through the response to get the details you want for the bike stations in that city (latitude, longitude, number of bikes). \n",
    "\n",
    "Choosing the **Vancouver** CityBikes API"
   ]
  },
  {
   "cell_type": "code",
   "execution_count": 2,
   "metadata": {},
   "outputs": [],
   "source": [
    "# Vancouver City\n",
    "url = 'https://api.citybik.es/v2/networks/mobibikes'\n",
    "response = requests.get(url)\n",
    "json_data = response.json()"
   ]
  },
  {
   "cell_type": "markdown",
   "metadata": {},
   "source": [
    "Put your parsed results into a DataFrame."
   ]
  },
  {
   "cell_type": "code",
   "execution_count": null,
   "metadata": {},
   "outputs": [],
   "source": [
    "#Normalizing the table\n",
    "df_cb = pd.json_normalize(json_data, ['network', 'stations'])\n",
    "\n",
    "# Creating necessary columns\n",
    "df_cb_name = df_cb['name']\n",
    "df_cb_lat = df_cb['latitude']\n",
    "df_cb_long = df_cb['longitude']\n",
    "df_cb_freebikes = df_cb['free_bikes']"
   ]
  },
  {
   "cell_type": "code",
   "execution_count": 3,
   "metadata": {},
   "outputs": [
    {
     "name": "stdout",
     "output_type": "stream",
     "text": [
      "Here is the list of longitude & latitude of Paris stations\n",
      "===========================================================\n"
     ]
    },
    {
     "data": {
      "text/html": [
       "<div>\n",
       "<style scoped>\n",
       "    .dataframe tbody tr th:only-of-type {\n",
       "        vertical-align: middle;\n",
       "    }\n",
       "\n",
       "    .dataframe tbody tr th {\n",
       "        vertical-align: top;\n",
       "    }\n",
       "\n",
       "    .dataframe thead th {\n",
       "        text-align: right;\n",
       "    }\n",
       "</style>\n",
       "<table border=\"1\" class=\"dataframe\">\n",
       "  <thead>\n",
       "    <tr style=\"text-align: right;\">\n",
       "      <th></th>\n",
       "      <th>name</th>\n",
       "      <th>latitude</th>\n",
       "      <th>longitude</th>\n",
       "      <th>free_bikes</th>\n",
       "      <th>cb_id</th>\n",
       "    </tr>\n",
       "  </thead>\n",
       "  <tbody>\n",
       "    <tr>\n",
       "      <th>0</th>\n",
       "      <td>10th &amp; Cambie</td>\n",
       "      <td>49.262487</td>\n",
       "      <td>-123.114397</td>\n",
       "      <td>21</td>\n",
       "      <td>cb_0</td>\n",
       "    </tr>\n",
       "    <tr>\n",
       "      <th>1</th>\n",
       "      <td>Yaletown-Roundhouse Station</td>\n",
       "      <td>49.274566</td>\n",
       "      <td>-123.121817</td>\n",
       "      <td>9</td>\n",
       "      <td>cb_1</td>\n",
       "    </tr>\n",
       "    <tr>\n",
       "      <th>2</th>\n",
       "      <td>Dunsmuir &amp; Beatty</td>\n",
       "      <td>49.279764</td>\n",
       "      <td>-123.110154</td>\n",
       "      <td>13</td>\n",
       "      <td>cb_2</td>\n",
       "    </tr>\n",
       "    <tr>\n",
       "      <th>3</th>\n",
       "      <td>12th &amp; Yukon (City Hall)</td>\n",
       "      <td>49.260599</td>\n",
       "      <td>-123.113504</td>\n",
       "      <td>2</td>\n",
       "      <td>cb_3</td>\n",
       "    </tr>\n",
       "    <tr>\n",
       "      <th>4</th>\n",
       "      <td>8th &amp; Ash</td>\n",
       "      <td>49.264215</td>\n",
       "      <td>-123.117772</td>\n",
       "      <td>9</td>\n",
       "      <td>cb_4</td>\n",
       "    </tr>\n",
       "    <tr>\n",
       "      <th>...</th>\n",
       "      <td>...</td>\n",
       "      <td>...</td>\n",
       "      <td>...</td>\n",
       "      <td>...</td>\n",
       "      <td>...</td>\n",
       "    </tr>\n",
       "    <tr>\n",
       "      <th>236</th>\n",
       "      <td>Heather &amp; 29th</td>\n",
       "      <td>49.245535</td>\n",
       "      <td>-123.120496</td>\n",
       "      <td>11</td>\n",
       "      <td>cb_236</td>\n",
       "    </tr>\n",
       "    <tr>\n",
       "      <th>237</th>\n",
       "      <td>Cardero &amp; Robson</td>\n",
       "      <td>49.289255</td>\n",
       "      <td>-123.132677</td>\n",
       "      <td>16</td>\n",
       "      <td>cb_237</td>\n",
       "    </tr>\n",
       "    <tr>\n",
       "      <th>238</th>\n",
       "      <td>Commercial &amp; 20th</td>\n",
       "      <td>49.252656</td>\n",
       "      <td>-123.067965</td>\n",
       "      <td>0</td>\n",
       "      <td>cb_238</td>\n",
       "    </tr>\n",
       "    <tr>\n",
       "      <th>239</th>\n",
       "      <td>Hornby &amp; Drake</td>\n",
       "      <td>49.277527</td>\n",
       "      <td>-123.129464</td>\n",
       "      <td>2</td>\n",
       "      <td>cb_239</td>\n",
       "    </tr>\n",
       "    <tr>\n",
       "      <th>240</th>\n",
       "      <td>Burrard &amp; 14th</td>\n",
       "      <td>49.259469</td>\n",
       "      <td>-123.145718</td>\n",
       "      <td>7</td>\n",
       "      <td>cb_240</td>\n",
       "    </tr>\n",
       "  </tbody>\n",
       "</table>\n",
       "<p>241 rows × 5 columns</p>\n",
       "</div>"
      ],
      "text/plain": [
       "                            name   latitude   longitude  free_bikes   cb_id\n",
       "0                  10th & Cambie  49.262487 -123.114397          21    cb_0\n",
       "1    Yaletown-Roundhouse Station  49.274566 -123.121817           9    cb_1\n",
       "2              Dunsmuir & Beatty  49.279764 -123.110154          13    cb_2\n",
       "3       12th & Yukon (City Hall)  49.260599 -123.113504           2    cb_3\n",
       "4                      8th & Ash  49.264215 -123.117772           9    cb_4\n",
       "..                           ...        ...         ...         ...     ...\n",
       "236               Heather & 29th  49.245535 -123.120496          11  cb_236\n",
       "237             Cardero & Robson  49.289255 -123.132677          16  cb_237\n",
       "238            Commercial & 20th  49.252656 -123.067965           0  cb_238\n",
       "239               Hornby & Drake  49.277527 -123.129464           2  cb_239\n",
       "240               Burrard & 14th  49.259469 -123.145718           7  cb_240\n",
       "\n",
       "[241 rows x 5 columns]"
      ]
     },
     "execution_count": 3,
     "metadata": {},
     "output_type": "execute_result"
    }
   ],
   "source": [
    "# putting the columns together in a dataframe\n",
    "df_cb_city = pd.DataFrame({'name': df_cb_name, 'latitude': df_cb_lat, 'longitude': df_cb_long, 'free_bikes': df_cb_freebikes})\n",
    "\n",
    "#create a column called cb_id and assign a unique id to each row in format (cb_XX) where XX is the row number\n",
    "df_cb_city['cb_id'] = 'cb_' + df_cb_city.index.astype(str)\n",
    "\n",
    "print(\"Here is the list of longitude & latitude of Vancouver stations\")\n",
    "print(\"===========================================================\")\n",
    "#print free bikes more than 0 in from df_cb_vancouver\n",
    "df_cb_city"
   ]
  },
  {
   "attachments": {},
   "cell_type": "markdown",
   "metadata": {},
   "source": [
    "Saving the DataFrame to a CSV file"
   ]
  },
  {
   "cell_type": "code",
   "execution_count": 4,
   "metadata": {},
   "outputs": [],
   "source": [
    "#save to csv in data folder\n",
    "df_cb_city.to_csv('../data/citybikes_vancouver.csv', index=False)"
   ]
  }
 ],
 "metadata": {
  "kernelspec": {
   "display_name": "test_env",
   "language": "python",
   "name": "test_env"
  },
  "language_info": {
   "codemirror_mode": {
    "name": "ipython",
    "version": 3
   },
   "file_extension": ".py",
   "mimetype": "text/x-python",
   "name": "python",
   "nbconvert_exporter": "python",
   "pygments_lexer": "ipython3",
   "version": "3.9.13"
  }
 },
 "nbformat": 4,
 "nbformat_minor": 4
}
