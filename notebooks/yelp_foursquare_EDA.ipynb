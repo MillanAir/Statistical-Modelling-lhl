{
 "cells": [
  {
   "cell_type": "code",
   "execution_count": 160,
   "metadata": {},
   "outputs": [
    {
     "data": {
      "application/javascript": "if (!(\"Notification\" in window)) {\n    alert(\"This browser does not support desktop notifications, so the %%notify magic will not work.\");\n} else if (Notification.permission !== 'granted' && Notification.permission !== 'denied') {\n    Notification.requestPermission(function (permission) {\n        if(!('permission' in Notification)) {\n            Notification.permission = permission;\n        }\n    })\n}\n",
      "text/plain": [
       "<IPython.core.display.Javascript object>"
      ]
     },
     "metadata": {},
     "output_type": "display_data"
    }
   ],
   "source": [
    "# imports pandas\n",
    "import pandas as pd\n",
    "import os\n",
    "import requests\n",
    "import numpy as np\n"
   ]
  },
  {
   "cell_type": "markdown",
   "metadata": {},
   "source": [
    "# Foursquare"
   ]
  },
  {
   "cell_type": "markdown",
   "metadata": {},
   "source": [
    "Send a request to Foursquare with a small radius (1000m) for all the bike stations in your city of choice. "
   ]
  },
  {
   "attachments": {},
   "cell_type": "markdown",
   "metadata": {},
   "source": [
    "**City: Vancouver**"
   ]
  },
  {
   "cell_type": "code",
   "execution_count": 129,
   "metadata": {},
   "outputs": [],
   "source": [
    "fs_client_id = os.environ['FSQ_CLIENT_ID']\n",
    "fs_client_secret = os.environ['FSQ_CLIENT_SECRET']\n",
    "\n",
    "fsq_api_key = os.environ['FSQ_API_KEY']"
   ]
  },
  {
   "cell_type": "code",
   "execution_count": 132,
   "metadata": {},
   "outputs": [
    {
     "data": {
      "text/plain": [
       "241"
      ]
     },
     "execution_count": 132,
     "metadata": {},
     "output_type": "execute_result"
    }
   ],
   "source": [
    "# from data import citybikes_vancouver.csv\n",
    "citybikes_vancouver = pd.read_csv('../data/citybikes_vancouver.csv')\n",
    "\n",
    "citybikes_vancouver['name'].count()"
   ]
  },
  {
   "attachments": {},
   "cell_type": "markdown",
   "metadata": {},
   "source": [
    "### Sample Query for 1 Station"
   ]
  },
  {
   "cell_type": "code",
   "execution_count": null,
   "metadata": {},
   "outputs": [],
   "source": [
    "#query = 'bike'\n",
    "lati = 48.865983\n",
    "long = 2.275725\n",
    "radius = 1000\n",
    "\n",
    "url = 'https://api.foursquare.com/v3/places/search?ll={},{}&radius={}'.format(lati, long, radius)\n",
    "\n",
    "headers = {\n",
    "    \"accept\": \"application/json\",\n",
    "    \"Authorization\": fsq_api_key\n",
    "}\n",
    "response = requests.get(url, headers=headers)\n",
    "json_data = response.json()\n",
    "\n",
    "#put data into dataframe, from json_data dictionary first element is results and inside results is a list of dictionaries\n",
    "# i want to get the name, location, categories, and id\n",
    "df = pd.DataFrame(json_data['results'])\n"
   ]
  },
  {
   "cell_type": "markdown",
   "metadata": {},
   "source": [
    "Parse through the response to get the POI (such as restaurants, bars, etc) details you want (ratings, name, location, etc)"
   ]
  },
  {
   "cell_type": "code",
   "execution_count": null,
   "metadata": {},
   "outputs": [],
   "source": [
    "# normalize the columns\n",
    "fsq_id = df['fsq_id']\n",
    "location = pd.json_normalize(df['location'])\n",
    "geocodes = pd.json_normalize(df['geocodes'])\n",
    "category = pd.json_normalize(df['categories'])\n",
    "category = pd.json_normalize(category[0])\n",
    "\n",
    "\n",
    "address = location.formatted_address\n",
    "lat = geocodes['main.latitude']\n",
    "long = geocodes['main.longitude']\n",
    "distance = df['distance']\n",
    "name = df['name']\n",
    "category = category['name']\n",
    "\n",
    "\n",
    "site = 'Foursquare'\n"
   ]
  },
  {
   "cell_type": "markdown",
   "metadata": {},
   "source": [
    "Put your parsed results into a DataFrame"
   ]
  },
  {
   "cell_type": "code",
   "execution_count": null,
   "metadata": {},
   "outputs": [],
   "source": [
    "# create a new dataframe with address, lat, long, distance in meters\n",
    "bikestation_poi = pd.DataFrame({'id': fsq_id, 'category': category, 'name': name, 'address': address, 'lat': lat, 'long': long, 'site': site})\n",
    "\n",
    "#select all records from bikestation\n",
    "bikestation_poi"
   ]
  },
  {
   "attachments": {},
   "cell_type": "markdown",
   "metadata": {},
   "source": [
    "### Using Citybike (lat, long) data fetching records from foursquare. (For all stations in citybike)"
   ]
  },
  {
   "cell_type": "code",
   "execution_count": null,
   "metadata": {},
   "outputs": [],
   "source": [
    "radius = 1000\n",
    "citybike_foursquare = pd.DataFrame()\n",
    "site = 'Foursquare'\n",
    "\n",
    "#sample of 3 data from citybikes_vancouver\n",
    "#sample = citybikes_vancouver.sample(3)\n",
    "\n",
    "\n",
    "for index, row in citybikes_vancouver.iterrows():    \n",
    "    station_name = row['name']\n",
    "    lat = row['latitude']\n",
    "    long = row['longitude']\n",
    "    cb_id = row['cb_id']\n",
    "    \n",
    "    # build the url\n",
    "    url = 'https://api.foursquare.com/v3/places/search?ll={},{}&radius={}'.format(lat, long, radius)\n",
    "    headers = {\n",
    "    \"accept\": \"application/json\",\n",
    "    \"Authorization\": fsq_api_key\n",
    "    }\n",
    "    response = requests.get(url, headers=headers)\n",
    "    json_data = response.json()\n",
    "\n",
    "    df = pd.DataFrame(json_data['results'])\n",
    "\n",
    "    # normalize the columns\n",
    "    location = pd.json_normalize(df['location'])\n",
    "    geocodes = pd.json_normalize(df['geocodes'])\n",
    "    category = pd.json_normalize(df['categories'])\n",
    "    category = pd.json_normalize(category[0])\n",
    "\n",
    "    fsq_id = df['fsq_id']\n",
    "    address = location.formatted_address\n",
    "    lat = geocodes['main.latitude']\n",
    "    long = geocodes['main.longitude']\n",
    "    distance = df['distance']\n",
    "    name = df['name']\n",
    "    category = category['name']    \n",
    "\n",
    "    # create a new dataframe with address, lat, long, distance in meters\n",
    "    bikestation_poi = pd.DataFrame({'fsq_id': fsq_id, 'station':station_name,'category': category, 'name': name, 'address': address, 'lat': lat, 'long': long, 'site': site})\n",
    "\n",
    "    #add cb_id to bikestation_poi\n",
    "    bikestation_poi['cb_id'] = cb_id\n",
    "\n",
    "    # append to the citybike_foursquare dataframe\n",
    "    citybike_foursquare = citybike_foursquare.append(bikestation_poi)\n",
    "        \n"
   ]
  },
  {
   "attachments": {},
   "cell_type": "markdown",
   "metadata": {},
   "source": [
    "Saving it in csv to use it later and reducing api calls"
   ]
  },
  {
   "cell_type": "code",
   "execution_count": 137,
   "metadata": {},
   "outputs": [],
   "source": [
    "citybike_foursquare.head()\n",
    "\n",
    "# save the dataframe to a csv file\n",
    "citybike_foursquare.to_csv('../data/cb_fsq_vancouver.csv', index=False)"
   ]
  },
  {
   "attachments": {},
   "cell_type": "markdown",
   "metadata": {},
   "source": [
    "Getting tips information using Foursquare API and making a separate dataframe"
   ]
  },
  {
   "cell_type": "code",
   "execution_count": 138,
   "metadata": {},
   "outputs": [],
   "source": [
    "#make an empty tips_df \n",
    "tips = []\n",
    "\n",
    "# tips_url = 'https://api.foursquare.com/v3/places/{}/tips'.format(fsq_id)\n",
    "\n",
    "headers = {\n",
    "    \"accept\": \"application/json\",\n",
    "    \"Authorization\": fsq_api_key\n",
    "}\n",
    "\n",
    "for index, row in citybike_foursquare.iterrows():\n",
    "    #get fsq_id for this row\n",
    "    fsq_id = row['fsq_id']\n",
    "    tips_url = 'https://api.foursquare.com/v3/places/{}/tips'.format(fsq_id)\n",
    "    response = requests.get(tips_url, headers=headers)\n",
    "    \n",
    "    try:\n",
    "        json_data = response.json()\n",
    "    except:\n",
    "        json_data = []\n",
    "\n",
    "    # if json data is not empty\n",
    "    if len(json_data) > 0:\n",
    "        #normalize json data\n",
    "        tip = pd.json_normalize(json_data)\n",
    "        # put in dataframe\n",
    "        tip_df = pd.DataFrame(tip)\n",
    "        #add fsq_id to dataframe\n",
    "        tip_df['fsq_id'] = fsq_id\n",
    "        #append to tips_df\n",
    "        tips.append(tip_df)\n",
    "\n",
    "\n"
   ]
  },
  {
   "cell_type": "code",
   "execution_count": 141,
   "metadata": {},
   "outputs": [],
   "source": [
    "#tips_df dataframe\n",
    "tips_df = pd.concat(tips)\n",
    "#save to csv\n",
    "#tips_df.to_csv('../data/cb_fsq_tips_vancouver.csv', index=False)\n"
   ]
  },
  {
   "cell_type": "markdown",
   "metadata": {},
   "source": [
    "# Yelp"
   ]
  },
  {
   "cell_type": "markdown",
   "metadata": {},
   "source": [
    "Send a request to Yelp with a small radius (1000m) for all the bike stations in your city of choice. "
   ]
  },
  {
   "cell_type": "code",
   "execution_count": 165,
   "metadata": {},
   "outputs": [],
   "source": [
    "yelp_client_id = 'rt6YwOeyXs5Oqx8HIn-6PQ'\n",
    "yelp_api_key = os.environ['YELP_API_KEY']\n",
    "\n",
    "\n",
    "headers = {\n",
    "    \"accept\": \"application/json\",\n",
    "    \"Authorization\": f'Bearer {yelp_api_key}'\n",
    "}"
   ]
  },
  {
   "attachments": {},
   "cell_type": "markdown",
   "metadata": {},
   "source": [
    "#### Using single station api call"
   ]
  },
  {
   "cell_type": "code",
   "execution_count": 110,
   "metadata": {},
   "outputs": [],
   "source": [
    "#query = 'bike'\n",
    "lati = 48.865983\n",
    "long = 2.275725\n",
    "radius = 1000\n",
    "\n",
    "# format this url with latitude and longitude\n",
    "url = 'https://api.yelp.com/v3/businesses/search?latitude={}&longitude={}&radius={}&sort_by=best_match&limit=10'.format(\n",
    "    lati, long, radius)\n",
    "\n",
    "response = requests.get(url, headers=headers)\n",
    "json_data = response.json()\n",
    "\n",
    "# put data into dataframe in tabular format afer normalizing the json data\n",
    "df = pd.json_normalize(json_data['businesses'])\n"
   ]
  },
  {
   "cell_type": "markdown",
   "metadata": {},
   "source": [
    "Parse through the response to get the POI (such as restaurants, bars, etc) details you want (ratings, name, location, etc)"
   ]
  },
  {
   "cell_type": "code",
   "execution_count": 112,
   "metadata": {},
   "outputs": [],
   "source": [
    "cate_df = pd.json_normalize(df['categories'])\n",
    "# if there is more than one category and they are not none then select the third category\n",
    "cate_df['cate'] = np.where(cate_df[2].isnull(), np.where(cate_df[1].isnull(), cate_df[0], cate_df[1]), cate_df[2])\n",
    "# select title from cate_df['cate'] and put it in a new dataframe called category\n",
    "category = pd.json_normalize(cate_df['cate'])\n",
    "category = category['title']\n",
    "\n",
    "name = pd.DataFrame(df['name'])\n",
    "\n",
    "address = pd.DataFrame(df['location.display_address'])\n",
    "address = address.rename(columns={'location.display_address':'address'})\n",
    "\n",
    "lat = pd.DataFrame(df['coordinates.latitude'])\n",
    "lat = lat.rename(columns={'coordinates.latitude':'lat'})\n",
    "\n",
    "long = pd.DataFrame(df['coordinates.longitude'])\n",
    "long = long.rename(columns={'coordinates.longitude':'long'})\n",
    "\n",
    "rating = df['rating']\n",
    "\n",
    "review_count = df['review_count']\n",
    "\n",
    "site = \"Yelp\"\n"
   ]
  },
  {
   "cell_type": "markdown",
   "metadata": {},
   "source": [
    "Put your parsed results into a DataFrame"
   ]
  },
  {
   "cell_type": "code",
   "execution_count": 113,
   "metadata": {},
   "outputs": [],
   "source": [
    "# create a new dataframe with category, name, address, lat, long, rating, review_count, site\n",
    "yelp = pd.concat([category, name, address, lat, long, rating, review_count], axis=1)\n",
    "yelp['site'] = site"
   ]
  },
  {
   "cell_type": "code",
   "execution_count": null,
   "metadata": {},
   "outputs": [],
   "source": [
    "yelp.head()"
   ]
  },
  {
   "attachments": {},
   "cell_type": "markdown",
   "metadata": {},
   "source": [
    "#### Using Citybike (lat, long) data fetching records from yelp. (For all stations in citybike)"
   ]
  },
  {
   "cell_type": "code",
   "execution_count": null,
   "metadata": {},
   "outputs": [],
   "source": [
    "radius = 1000\n",
    "citybike_yelp = pd.DataFrame()\n",
    "site = 'Yelp'\n",
    "\n",
    "#take 3 random rows from citybikes_vancouver\n",
    "#sample = citybikes_vancouver.sample(n=3)\n",
    "\n",
    "for index, row in citybikes_vancouver.iterrows():\n",
    "    lat = row['latitude']\n",
    "    long = row['longitude']\n",
    "    cb_id = row['cb_id']\n",
    "    \n",
    "    url = 'https://api.yelp.com/v3/businesses/search?latitude={}&longitude={}&radius={}&sort_by=best_match&limit=20'.format(\n",
    "        lat, long, radius)\n",
    "\n",
    "    response = requests.get(url, headers=headers)\n",
    "    json_data = response.json()\n",
    "    \n",
    "    # put data into dataframe in tabular format afer normalizing the json data\n",
    "    df = pd.json_normalize(json_data['businesses'])    \n",
    "    \n",
    "    cate_df = pd.json_normalize(df['categories'])\n",
    "    # if there is more than one category and they are not none then select the third category\n",
    "    try:\n",
    "        cate_df['cate'] = np.where(cate_df[2].isnull(), np.where(cate_df[1].isnull(), cate_df[0], cate_df[1]), cate_df[2])\n",
    "    except:\n",
    "        try:\n",
    "            cate_df['cate'] = np.where(cate_df[1].isnull(), cate_df[0], cate_df[1])\n",
    "        except:\n",
    "            cate_df['cate'] = cate_df[0]\n",
    "            \n",
    "    # select title from cate_df['cate'] and put it in a new dataframe called category\n",
    "    category = pd.json_normalize(cate_df['cate'])\n",
    "    category = category['title']\n",
    "\n",
    "    name = pd.DataFrame(df['name'])\n",
    "\n",
    "    address = pd.DataFrame(df['location.display_address'])\n",
    "    address = address.rename(columns={'location.display_address':'address'})\n",
    "\n",
    "    lat = pd.DataFrame(df['coordinates.latitude'])\n",
    "    lat = lat.rename(columns={'coordinates.latitude':'lat'})\n",
    "\n",
    "    long = pd.DataFrame(df['coordinates.longitude'])\n",
    "    long = long.rename(columns={'coordinates.longitude':'long'})\n",
    "\n",
    "    rating = df['rating']\n",
    "\n",
    "    review_count = df['review_count']\n",
    "\n",
    "    yelp = pd.concat([category, name, address, lat, long, rating, review_count], axis=1)\n",
    "    yelp['site'] = site\n",
    "    yelp['cb_id'] = cb_id\n",
    "\n",
    "    # append to the citybike_yelp dataframe\n",
    "    citybike_yelp = citybike_yelp.append(yelp)\n",
    "\n",
    "    \n",
    "        \n",
    "\n",
    "\n"
   ]
  },
  {
   "cell_type": "code",
   "execution_count": 175,
   "metadata": {},
   "outputs": [],
   "source": [
    "#save citybike_yelp to csv\n",
    "#citybike_yelp.to_csv('../data/cb_yelp_vancouver.csv', index=False)"
   ]
  },
  {
   "cell_type": "markdown",
   "metadata": {},
   "source": [
    "# Comparing Results"
   ]
  },
  {
   "cell_type": "markdown",
   "metadata": {},
   "source": [
    "Which API provided you with more complete data? Provide an explanation. "
   ]
  },
  {
   "attachments": {},
   "cell_type": "markdown",
   "metadata": {},
   "source": [
    "```\n",
    "According to me Yelp provided me with complete data regarding the ratings of the points of interest near the bike station.\n",
    "\n",
    "From foursquare data, review_counts can be figured out using a separate api call which requires me to pass fsq_id for the poi. However, through Yelp only a single api call can fetch ratings and review counts.\n",
    "```"
   ]
  },
  {
   "cell_type": "markdown",
   "metadata": {},
   "source": [
    "Get the top 10 restaurants according to their rating"
   ]
  },
  {
   "cell_type": "code",
   "execution_count": 181,
   "metadata": {},
   "outputs": [
    {
     "data": {
      "text/html": [
       "<div>\n",
       "<style scoped>\n",
       "    .dataframe tbody tr th:only-of-type {\n",
       "        vertical-align: middle;\n",
       "    }\n",
       "\n",
       "    .dataframe tbody tr th {\n",
       "        vertical-align: top;\n",
       "    }\n",
       "\n",
       "    .dataframe thead th {\n",
       "        text-align: right;\n",
       "    }\n",
       "</style>\n",
       "<table border=\"1\" class=\"dataframe\">\n",
       "  <thead>\n",
       "    <tr style=\"text-align: right;\">\n",
       "      <th></th>\n",
       "      <th>title</th>\n",
       "      <th>name</th>\n",
       "      <th>address</th>\n",
       "      <th>lat</th>\n",
       "      <th>long</th>\n",
       "      <th>rating</th>\n",
       "      <th>review_count</th>\n",
       "      <th>site</th>\n",
       "      <th>cb_id</th>\n",
       "    </tr>\n",
       "  </thead>\n",
       "  <tbody>\n",
       "    <tr>\n",
       "      <th>16</th>\n",
       "      <td>Canadian (New)</td>\n",
       "      <td>Arike Restaurant</td>\n",
       "      <td>[1725 Davie St, Vancouver, BC V6G 1W5, Canada]</td>\n",
       "      <td>49.286805</td>\n",
       "      <td>-123.140856</td>\n",
       "      <td>5.0</td>\n",
       "      <td>25</td>\n",
       "      <td>Yelp</td>\n",
       "      <td>cb_55</td>\n",
       "    </tr>\n",
       "    <tr>\n",
       "      <th>13</th>\n",
       "      <td>Thai</td>\n",
       "      <td>Unchai Thai Restaurant</td>\n",
       "      <td>[2351 Burrard Street, Vancouver, BC V6J 3J2, C...</td>\n",
       "      <td>49.265112</td>\n",
       "      <td>-123.145913</td>\n",
       "      <td>4.5</td>\n",
       "      <td>79</td>\n",
       "      <td>Yelp</td>\n",
       "      <td>cb_240</td>\n",
       "    </tr>\n",
       "    <tr>\n",
       "      <th>14</th>\n",
       "      <td>French</td>\n",
       "      <td>Le Crocodile Restaurant</td>\n",
       "      <td>[909 Burrard Street, Vancouver, BC V6Z 2N2, Ca...</td>\n",
       "      <td>49.282282</td>\n",
       "      <td>-123.124911</td>\n",
       "      <td>4.5</td>\n",
       "      <td>428</td>\n",
       "      <td>Yelp</td>\n",
       "      <td>cb_171</td>\n",
       "    </tr>\n",
       "    <tr>\n",
       "      <th>18</th>\n",
       "      <td>French</td>\n",
       "      <td>St Lawrence Restaurant</td>\n",
       "      <td>[269 Powell Street, Vancouver, BC V6A 1G3, Can...</td>\n",
       "      <td>49.283258</td>\n",
       "      <td>-123.097993</td>\n",
       "      <td>4.5</td>\n",
       "      <td>132</td>\n",
       "      <td>Yelp</td>\n",
       "      <td>cb_155</td>\n",
       "    </tr>\n",
       "    <tr>\n",
       "      <th>18</th>\n",
       "      <td>Ethiopian</td>\n",
       "      <td>Fassil Ethiopian Restaurant</td>\n",
       "      <td>[736 Broadway E, Vancouver, BC V5T 1X9, Canada]</td>\n",
       "      <td>49.262317</td>\n",
       "      <td>-123.088331</td>\n",
       "      <td>4.5</td>\n",
       "      <td>145</td>\n",
       "      <td>Yelp</td>\n",
       "      <td>cb_157</td>\n",
       "    </tr>\n",
       "    <tr>\n",
       "      <th>15</th>\n",
       "      <td>Ethiopian</td>\n",
       "      <td>Axum Restaurant</td>\n",
       "      <td>[1279 E Hastings Street, Vancouver, BC V6A 1S4...</td>\n",
       "      <td>49.281494</td>\n",
       "      <td>-123.077796</td>\n",
       "      <td>4.5</td>\n",
       "      <td>67</td>\n",
       "      <td>Yelp</td>\n",
       "      <td>cb_169</td>\n",
       "    </tr>\n",
       "    <tr>\n",
       "      <th>14</th>\n",
       "      <td>Indian</td>\n",
       "      <td>Ashiana Tandoori Restaurant</td>\n",
       "      <td>[1440 Kingsway Street, Vancouver, BC V5N 2R5, ...</td>\n",
       "      <td>49.249472</td>\n",
       "      <td>-123.074921</td>\n",
       "      <td>4.5</td>\n",
       "      <td>81</td>\n",
       "      <td>Yelp</td>\n",
       "      <td>cb_143</td>\n",
       "    </tr>\n",
       "    <tr>\n",
       "      <th>19</th>\n",
       "      <td>French</td>\n",
       "      <td>Five Sails Restaurant</td>\n",
       "      <td>[401-999 Canada Place, Vancouver, BC V6C 3E1, ...</td>\n",
       "      <td>49.288031</td>\n",
       "      <td>-123.113292</td>\n",
       "      <td>4.5</td>\n",
       "      <td>174</td>\n",
       "      <td>Yelp</td>\n",
       "      <td>cb_8</td>\n",
       "    </tr>\n",
       "    <tr>\n",
       "      <th>19</th>\n",
       "      <td>Breakfast &amp; Brunch</td>\n",
       "      <td>The Tipper Restaurant</td>\n",
       "      <td>[2066 Kingsway, Vancouver, BC V5N 2T3, Canada]</td>\n",
       "      <td>49.244523</td>\n",
       "      <td>-123.064140</td>\n",
       "      <td>4.0</td>\n",
       "      <td>122</td>\n",
       "      <td>Yelp</td>\n",
       "      <td>cb_238</td>\n",
       "    </tr>\n",
       "    <tr>\n",
       "      <th>13</th>\n",
       "      <td>African</td>\n",
       "      <td>Harambe Restaurant</td>\n",
       "      <td>[2149 Commercial Drive, Vancouver, BC V5N 4B3,...</td>\n",
       "      <td>49.265519</td>\n",
       "      <td>-123.069867</td>\n",
       "      <td>4.0</td>\n",
       "      <td>133</td>\n",
       "      <td>Yelp</td>\n",
       "      <td>cb_141</td>\n",
       "    </tr>\n",
       "  </tbody>\n",
       "</table>\n",
       "</div>"
      ],
      "text/plain": [
       "                 title                         name  \\\n",
       "16      Canadian (New)             Arike Restaurant   \n",
       "13                Thai       Unchai Thai Restaurant   \n",
       "14              French      Le Crocodile Restaurant   \n",
       "18              French       St Lawrence Restaurant   \n",
       "18           Ethiopian  Fassil Ethiopian Restaurant   \n",
       "15           Ethiopian              Axum Restaurant   \n",
       "14              Indian  Ashiana Tandoori Restaurant   \n",
       "19              French        Five Sails Restaurant   \n",
       "19  Breakfast & Brunch        The Tipper Restaurant   \n",
       "13             African           Harambe Restaurant   \n",
       "\n",
       "                                              address        lat        long  \\\n",
       "16     [1725 Davie St, Vancouver, BC V6G 1W5, Canada]  49.286805 -123.140856   \n",
       "13  [2351 Burrard Street, Vancouver, BC V6J 3J2, C...  49.265112 -123.145913   \n",
       "14  [909 Burrard Street, Vancouver, BC V6Z 2N2, Ca...  49.282282 -123.124911   \n",
       "18  [269 Powell Street, Vancouver, BC V6A 1G3, Can...  49.283258 -123.097993   \n",
       "18    [736 Broadway E, Vancouver, BC V5T 1X9, Canada]  49.262317 -123.088331   \n",
       "15  [1279 E Hastings Street, Vancouver, BC V6A 1S4...  49.281494 -123.077796   \n",
       "14  [1440 Kingsway Street, Vancouver, BC V5N 2R5, ...  49.249472 -123.074921   \n",
       "19  [401-999 Canada Place, Vancouver, BC V6C 3E1, ...  49.288031 -123.113292   \n",
       "19     [2066 Kingsway, Vancouver, BC V5N 2T3, Canada]  49.244523 -123.064140   \n",
       "13  [2149 Commercial Drive, Vancouver, BC V5N 4B3,...  49.265519 -123.069867   \n",
       "\n",
       "    rating  review_count  site   cb_id  \n",
       "16     5.0            25  Yelp   cb_55  \n",
       "13     4.5            79  Yelp  cb_240  \n",
       "14     4.5           428  Yelp  cb_171  \n",
       "18     4.5           132  Yelp  cb_155  \n",
       "18     4.5           145  Yelp  cb_157  \n",
       "15     4.5            67  Yelp  cb_169  \n",
       "14     4.5            81  Yelp  cb_143  \n",
       "19     4.5           174  Yelp    cb_8  \n",
       "19     4.0           122  Yelp  cb_238  \n",
       "13     4.0           133  Yelp  cb_141  "
      ]
     },
     "execution_count": 181,
     "metadata": {},
     "output_type": "execute_result"
    }
   ],
   "source": [
    "#get top 10 ratings from yelp where name contains restaurent and they are unique\n",
    "citybike_yelp[citybike_yelp['name'].str.contains('Restaurant')].sort_values(by='rating', ascending=False).drop_duplicates(subset='name').head(10)\n"
   ]
  }
 ],
 "metadata": {
  "kernelspec": {
   "display_name": "Python 3",
   "language": "python",
   "name": "python3"
  },
  "language_info": {
   "codemirror_mode": {
    "name": "ipython",
    "version": 3
   },
   "file_extension": ".py",
   "mimetype": "text/x-python",
   "name": "python",
   "nbconvert_exporter": "python",
   "pygments_lexer": "ipython3",
   "version": "3.9.13"
  }
 },
 "nbformat": 4,
 "nbformat_minor": 4
}
