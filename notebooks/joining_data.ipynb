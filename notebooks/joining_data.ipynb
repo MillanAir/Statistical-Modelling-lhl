{
 "cells": [
  {
   "cell_type": "markdown",
   "metadata": {},
   "source": [
    "Join the data from Part 1 with the data from Part 2 to create a new dataframe."
   ]
  },
  {
   "cell_type": "markdown",
   "metadata": {},
   "source": [
    "Import Libraries"
   ]
  },
  {
   "cell_type": "code",
   "execution_count": 2,
   "metadata": {},
   "outputs": [],
   "source": [
    "#Getting necessary imports\n",
    "import pandas as pd"
   ]
  },
  {
   "attachments": {},
   "cell_type": "markdown",
   "metadata": {},
   "source": [
    "Getting part 1 data, **citybikes_vancouver.csv**"
   ]
  },
  {
   "cell_type": "code",
   "execution_count": 3,
   "metadata": {},
   "outputs": [],
   "source": [
    "#load city_bikes_vancouver.csv\n",
    "cb_vancouver = pd.read_csv('../data/citybikes_vancouver.csv')"
   ]
  },
  {
   "attachments": {},
   "cell_type": "markdown",
   "metadata": {},
   "source": [
    "Getting part 2 data\n",
    "\n",
    "1. Foursquare\n",
    "2. Yelp"
   ]
  },
  {
   "attachments": {},
   "cell_type": "markdown",
   "metadata": {},
   "source": [
    "### 1. Foursquare"
   ]
  },
  {
   "attachments": {},
   "cell_type": "markdown",
   "metadata": {},
   "source": [
    "Load the required csv files\n",
    "1. Citybike Foursquare Vancouver: `cb_fsq_vancouver.csv`\n",
    "2. Citybike Foursquare Tips: `cb_fsq_tips_vancouver.csv`"
   ]
  },
  {
   "cell_type": "code",
   "execution_count": 4,
   "metadata": {},
   "outputs": [],
   "source": [
    "# Foursquare\n",
    "#load cb_fsq_vancouver.csv\n",
    "cb_fsq_vancouver = pd.read_csv('../data/cb_fsq_vancouver.csv')\n",
    "#load cb_fsq_vancouver_tips\n",
    "cb_fsq_vancouver_tips = pd.read_csv('../data/cb_fsq_tips_vancouver.csv')"
   ]
  },
  {
   "cell_type": "markdown",
   "metadata": {},
   "source": [
    "Getting the number of tips recieved on a particular POI"
   ]
  },
  {
   "cell_type": "code",
   "execution_count": 5,
   "metadata": {},
   "outputs": [],
   "source": [
    "#get the count of fsq_id in tips\n",
    "tips_count = cb_fsq_vancouver_tips.groupby('fsq_id').size().reset_index(name='review_count')\n",
    "\n",
    "#merge cb_fsq_vancouver and tips_count\n",
    "cb_fsq_vancouver = pd.merge(cb_fsq_vancouver, tips_count, on='fsq_id', how='left')"
   ]
  },
  {
   "attachments": {},
   "cell_type": "markdown",
   "metadata": {},
   "source": [
    "Rounding Latitude and Longitude data to 3 decimal places for better comprehension<br/>\n",
    "`result: 49.282, -123.120`"
   ]
  },
  {
   "cell_type": "code",
   "execution_count": null,
   "metadata": {},
   "outputs": [],
   "source": [
    "#round lat and long to 3 decimal places\n",
    "cb_fsq_vancouver['lat'] = cb_fsq_vancouver['lat'].round(3)\n",
    "cb_fsq_vancouver['long'] = cb_fsq_vancouver['long'].round(3)"
   ]
  },
  {
   "attachments": {},
   "cell_type": "markdown",
   "metadata": {},
   "source": [
    "Acquiring postal codes in a format of A1A1A1<br/>\n",
    "`result: V5Z3Y6`"
   ]
  },
  {
   "cell_type": "code",
   "execution_count": null,
   "metadata": {},
   "outputs": [],
   "source": [
    "#get postal codes from address\n",
    "cb_fsq_vancouver['postal_code'] = cb_fsq_vancouver['address'].str.split(',').str[-1].str.strip()\n",
    "#remove 'Vancouver BC' from address\n",
    "cb_fsq_vancouver['postal_code'] = cb_fsq_vancouver['postal_code'].str.replace('Vancouver BC', '')\n",
    "#remove space\n",
    "cb_fsq_vancouver['postal_code'] = cb_fsq_vancouver['postal_code'].str.replace(' ','')"
   ]
  },
  {
   "cell_type": "markdown",
   "metadata": {},
   "source": [
    "Here trying to get the number of street in the address<br/>\n",
    "Example: 4558 Prince Street<br/>\n",
    "`result: 4558`"
   ]
  },
  {
   "cell_type": "code",
   "execution_count": null,
   "metadata": {},
   "outputs": [],
   "source": [
    "# from address extract number\n",
    "cb_fsq_vancouver['number'] = cb_fsq_vancouver['address'].str.split(' ').str[0]\n",
    "\n",
    "# remove string from number and save only integers\n",
    "cb_fsq_vancouver['number'] = cb_fsq_vancouver['number'].str.replace('[^0-9]','')"
   ]
  },
  {
   "cell_type": "markdown",
   "metadata": {},
   "source": [
    "### 2. Yelp"
   ]
  },
  {
   "cell_type": "markdown",
   "metadata": {},
   "source": [
    "Load required csv files:\n",
    "`cb_yelp_vancouver.csv`"
   ]
  },
  {
   "cell_type": "code",
   "execution_count": 9,
   "metadata": {},
   "outputs": [],
   "source": [
    "#Yelp\n",
    "#load cb_yelp_vancouver.csv\n",
    "cb_yelp_vancouver = pd.read_csv('../data/cb_yelp_vancouver.csv')"
   ]
  },
  {
   "cell_type": "markdown",
   "metadata": {},
   "source": [
    "Rounding Longitude and Latitude to 3 decimal places\n",
    "<br/>\n",
    "`example: 49.264, -123.113`"
   ]
  },
  {
   "cell_type": "code",
   "execution_count": null,
   "metadata": {},
   "outputs": [],
   "source": [
    "#round the latitude and longitude to 3 decimal places\n",
    "cb_yelp_vancouver['lat'] = cb_yelp_vancouver['lat'].round(3)\n",
    "cb_yelp_vancouver['long'] = cb_yelp_vancouver['long'].round(3)\n",
    "#drop square brackets and single quotes from the address column\n",
    "cb_yelp_vancouver['address'] = cb_yelp_vancouver['address'].str.replace('[','').str.replace(']','').str.replace(\"'\",'')"
   ]
  },
  {
   "cell_type": "markdown",
   "metadata": {},
   "source": [
    "Acquiring postal codes in a format of A1A1A1<br/>\n",
    "`result: V5Z3Y6`"
   ]
  },
  {
   "cell_type": "code",
   "execution_count": null,
   "metadata": {},
   "outputs": [],
   "source": [
    "# From address column get the postal code\n",
    "postal_code = cb_yelp_vancouver['address'].str.split(',').str[-2].str.strip()\n",
    "# Remove 'BC' from postal_code column\n",
    "postal_code = postal_code.str.replace('BC','')\n",
    "# Remove space from postal_code column\n",
    "postal_code = postal_code.str.replace(' ','')\n",
    "\n",
    "cb_yelp_vancouver['postal_code'] = postal_code"
   ]
  },
  {
   "cell_type": "markdown",
   "metadata": {},
   "source": [
    "Here trying to get the number of street in the address<br/>\n",
    "Example: 4558 Prince Street<br/>\n",
    "`result: 4558`"
   ]
  },
  {
   "cell_type": "code",
   "execution_count": null,
   "metadata": {},
   "outputs": [],
   "source": [
    "# from address extract number\n",
    "cb_yelp_vancouver['number'] = cb_yelp_vancouver['address'].str.split(' ').str[0]\n",
    "\n",
    "# remove string from number and save only integers\n",
    "cb_yelp_vancouver['number'] = cb_fsq_vancouver['number'].str.replace('[^0-9]','')\n",
    "\n",
    "#if there is a '-' in value then use only second value\n",
    "if '-' in cb_yelp_vancouver['number']:\n",
    "    cb_yelp_vancouver['number'] = cb_yelp_vancouver['number'].str.split('-').str[1]"
   ]
  },
  {
   "attachments": {},
   "cell_type": "markdown",
   "metadata": {},
   "source": [
    "Joining `Foursquare` and `Yelp` into single dataframe using columns mentioned below:\n",
    "1. cb_id\n",
    "2. Street number\n",
    "3. Postal code"
   ]
  },
  {
   "cell_type": "code",
   "execution_count": null,
   "metadata": {},
   "outputs": [],
   "source": [
    "# join cb_fsq_vancouver and cb_yelp_vancouver through cb_id, number, postal_code, lat, long\n",
    "cb_fsq_yelp_vancouver = pd.merge(cb_fsq_vancouver, cb_yelp_vancouver, on=['cb_id', 'number', 'postal_code'], how='outer')\n",
    "\n",
    "#fill Nan values with 'Not Available'\n",
    "cb_fsq_yelp_vancouver = cb_fsq_yelp_vancouver.fillna('unavailable')"
   ]
  },
  {
   "cell_type": "code",
   "execution_count": null,
   "metadata": {},
   "outputs": [],
   "source": [
    "# drop columns that are not required\n",
    "cb_fsq_yelp_vancouver = cb_fsq_yelp_vancouver.drop(['lat_x', 'long_x', 'address_x', 'number'], axis=1)"
   ]
  },
  {
   "attachments": {},
   "cell_type": "markdown",
   "metadata": {},
   "source": [
    "Merging `Yelp,Foursquare` dataframe with `Citybike` dataframe"
   ]
  },
  {
   "cell_type": "code",
   "execution_count": null,
   "metadata": {},
   "outputs": [],
   "source": [
    "#join cb_fsq_yelp_vancouver and cb_vancouver through cb_id\n",
    "main_df = pd.merge(cb_fsq_yelp_vancouver, cb_vancouver, on='cb_id', how='outer')"
   ]
  },
  {
   "cell_type": "markdown",
   "metadata": {},
   "source": [
    "Cleaning the data by removing less significant columns and rows"
   ]
  },
  {
   "cell_type": "code",
   "execution_count": null,
   "metadata": {},
   "outputs": [],
   "source": [
    "#drop all rows where anything is unavailable\n",
    "cb_fsq_yelp_vancouver['review_count_x'] = pd.to_numeric(cb_fsq_yelp_vancouver['review_count_x'], errors='coerce')\n",
    "cb_fsq_yelp_vancouver['review_count_y'] = pd.to_numeric(cb_fsq_yelp_vancouver['review_count_y'], errors='coerce')\n",
    "cb_fsq_yelp_vancouver['rating'] = pd.to_numeric(cb_fsq_yelp_vancouver['rating'], errors='coerce')\n",
    "\n",
    "condensed_df = cb_fsq_yelp_vancouver.groupby('cb_id').agg(\n",
    "    avg_fsq_review=('review_count_x', 'mean'),\n",
    "    avg_yelp_review=('review_count_y', 'mean'),\n",
    "    avg_yelp_rating=('rating', 'mean')\n",
    ").reset_index()"
   ]
  },
  {
   "cell_type": "code",
   "execution_count": 28,
   "metadata": {},
   "outputs": [
    {
     "data": {
      "text/html": [
       "<div>\n",
       "<style scoped>\n",
       "    .dataframe tbody tr th:only-of-type {\n",
       "        vertical-align: middle;\n",
       "    }\n",
       "\n",
       "    .dataframe tbody tr th {\n",
       "        vertical-align: top;\n",
       "    }\n",
       "\n",
       "    .dataframe thead th {\n",
       "        text-align: right;\n",
       "    }\n",
       "</style>\n",
       "<table border=\"1\" class=\"dataframe\">\n",
       "  <thead>\n",
       "    <tr style=\"text-align: right;\">\n",
       "      <th></th>\n",
       "      <th>cb_id</th>\n",
       "      <th>avg_fsq_review</th>\n",
       "      <th>avg_yelp_review</th>\n",
       "      <th>avg_yelp_rating</th>\n",
       "      <th>name</th>\n",
       "      <th>latitude</th>\n",
       "      <th>longitude</th>\n",
       "      <th>free_bikes</th>\n",
       "    </tr>\n",
       "  </thead>\n",
       "  <tbody>\n",
       "    <tr>\n",
       "      <th>0</th>\n",
       "      <td>cb_0</td>\n",
       "      <td>19.8</td>\n",
       "      <td>297.85</td>\n",
       "      <td>4.025</td>\n",
       "      <td>10th &amp; Cambie</td>\n",
       "      <td>49.262487</td>\n",
       "      <td>-123.114397</td>\n",
       "      <td>21</td>\n",
       "    </tr>\n",
       "    <tr>\n",
       "      <th>1</th>\n",
       "      <td>cb_1</td>\n",
       "      <td>17.4</td>\n",
       "      <td>781.20</td>\n",
       "      <td>4.225</td>\n",
       "      <td>Yaletown-Roundhouse Station</td>\n",
       "      <td>49.274566</td>\n",
       "      <td>-123.121817</td>\n",
       "      <td>9</td>\n",
       "    </tr>\n",
       "    <tr>\n",
       "      <th>2</th>\n",
       "      <td>cb_10</td>\n",
       "      <td>25.4</td>\n",
       "      <td>893.70</td>\n",
       "      <td>4.175</td>\n",
       "      <td>Pender &amp; Burrard</td>\n",
       "      <td>49.287097</td>\n",
       "      <td>-123.118551</td>\n",
       "      <td>13</td>\n",
       "    </tr>\n",
       "    <tr>\n",
       "      <th>3</th>\n",
       "      <td>cb_100</td>\n",
       "      <td>21.5</td>\n",
       "      <td>208.40</td>\n",
       "      <td>4.025</td>\n",
       "      <td>Pine &amp; 14th</td>\n",
       "      <td>49.258864</td>\n",
       "      <td>-123.143530</td>\n",
       "      <td>0</td>\n",
       "    </tr>\n",
       "    <tr>\n",
       "      <th>4</th>\n",
       "      <td>cb_101</td>\n",
       "      <td>24.0</td>\n",
       "      <td>287.00</td>\n",
       "      <td>4.075</td>\n",
       "      <td>York &amp; Yew</td>\n",
       "      <td>49.271741</td>\n",
       "      <td>-123.155421</td>\n",
       "      <td>5</td>\n",
       "    </tr>\n",
       "  </tbody>\n",
       "</table>\n",
       "</div>"
      ],
      "text/plain": [
       "    cb_id  avg_fsq_review  avg_yelp_review  avg_yelp_rating  \\\n",
       "0    cb_0            19.8           297.85            4.025   \n",
       "1    cb_1            17.4           781.20            4.225   \n",
       "2   cb_10            25.4           893.70            4.175   \n",
       "3  cb_100            21.5           208.40            4.025   \n",
       "4  cb_101            24.0           287.00            4.075   \n",
       "\n",
       "                          name   latitude   longitude  free_bikes  \n",
       "0                10th & Cambie  49.262487 -123.114397          21  \n",
       "1  Yaletown-Roundhouse Station  49.274566 -123.121817           9  \n",
       "2             Pender & Burrard  49.287097 -123.118551          13  \n",
       "3                  Pine & 14th  49.258864 -123.143530           0  \n",
       "4                   York & Yew  49.271741 -123.155421           5  "
      ]
     },
     "execution_count": 28,
     "metadata": {},
     "output_type": "execute_result"
    }
   ],
   "source": [
    "# merge condensed_df and cb_vancouver\n",
    "main_df = pd.merge(condensed_df, cb_vancouver, on='cb_id', how='outer')\n",
    "\n",
    "main_df.head()"
   ]
  },
  {
   "cell_type": "markdown",
   "metadata": {},
   "source": [
    "Saving the merged single dataframe into csv format"
   ]
  },
  {
   "cell_type": "code",
   "execution_count": 29,
   "metadata": {},
   "outputs": [],
   "source": [
    "#save to csv cb_avg_ratings.csv\n",
    "main_df.to_csv('../data/cb_avg_ratings.csv', index=False)"
   ]
  },
  {
   "cell_type": "markdown",
   "metadata": {},
   "source": [
    "Provide a visualization that you used as part of your EDA process. Explain the initial pattern or relationship you discoved through this visualization. "
   ]
  },
  {
   "cell_type": "code",
   "execution_count": 5,
   "metadata": {},
   "outputs": [],
   "source": [
    "# using matplotlib to plot the data\n",
    "import matplotlib.pyplot as plt"
   ]
  },
  {
   "cell_type": "code",
   "execution_count": null,
   "metadata": {},
   "outputs": [],
   "source": [
    "#load main_df\n",
    "main_df = pd.read_csv('../data/cb_avg_ratings.csv')\n",
    "\n",
    "#plot a bar chart to show difference between yelp and foursquare reviews\n",
    "#count fsq_id and store it in a variable as integer where fsq_id is not unavailable\n",
    "y1 = main_df[main_df['fsq_id'] != 'unavailable'].groupby('fsq_id').size().reset_index(name='count')\n",
    "#sum y1 and store it in a self\n",
    "y1 = y1['count'].sum()\n",
    "\n",
    "#count ratings and store it in a variable where ratings is not unavailable\n",
    "y2 = main_df[main_df['rating'] != 'unavailable'].groupby('rating').size().reset_index(name='count')\n",
    "y2 = y2['count'].sum()\n",
    "\n",
    "#x is total size of main_df\n",
    "x = main_df.groupby('cb_id').size().reset_index(name='count')\n",
    "x = x['count'].sum()\n",
    "\n",
    "y3 = y1+y2-x\n"
   ]
  },
  {
   "cell_type": "code",
   "execution_count": null,
   "metadata": {},
   "outputs": [
    {
     "data": {
      "image/png": "[encoded data removed]",
      "text/plain": [
       "<Figure size 640x480 with 1 Axes>"
      ]
     },
     "metadata": {},
     "output_type": "display_data"
    }
   ],
   "source": [
    "\n",
    "#plot the bar chart y1 as foursquare, y2 as yelp, y3 as Both\n",
    "plt.bar(['Foursquare', 'Yelp', 'Both'], [y1, y2, y3], color=['red', 'green', 'blue'])\n",
    "plt.title('Foursquare vs Yelp')\n",
    "plt.xlabel('Reviews')\n",
    "plt.ylabel('Count')\n",
    "#show no of reviews for foursquare, yelp and both\n",
    "for i, v in enumerate([y1, y2, y3]):\n",
    "    plt.text(i, v, str(v), color='black', fontweight='bold')\n",
    "    \n",
    "plt.show()"
   ]
  },
  {
   "cell_type": "markdown",
   "metadata": {},
   "source": [
    "Above bar chart reveals number of reviews from Foursquare and Yelp"
   ]
  },
  {
   "cell_type": "code",
   "execution_count": 36,
   "metadata": {},
   "outputs": [
    {
     "data": {
      "image/png": "[encoded data removed]",
      "text/plain": [
       "<Figure size 640x480 with 1 Axes>"
      ]
     },
     "metadata": {},
     "output_type": "display_data"
    }
   ],
   "source": [
    "#bar chart for free_bikes and avg_yelp_ratings\n",
    "plt.bar(main_df['free_bikes'], main_df['avg_yelp_rating'])\n",
    "plt.title('Free Bikes vs Average Yelp Rating')\n",
    "plt.xlabel('Free Bikes')\n",
    "plt.ylabel('Average Yelp Rating')\n",
    "plt.show()"
   ]
  },
  {
   "cell_type": "markdown",
   "metadata": {},
   "source": [
    "Above bar chart reveals average ratings on POIs and free bikes near them."
   ]
  },
  {
   "cell_type": "markdown",
   "metadata": {},
   "source": [
    "# Database"
   ]
  },
  {
   "cell_type": "markdown",
   "metadata": {},
   "source": [
    "Put all your results in an SQLite3 database (remember, SQLite stores its databases as files in your local machine - make sure to create your database in your project's data/ directory!)"
   ]
  },
  {
   "cell_type": "code",
   "execution_count": 22,
   "metadata": {},
   "outputs": [],
   "source": [
    "import sqlite3"
   ]
  },
  {
   "cell_type": "code",
   "execution_count": 23,
   "metadata": {},
   "outputs": [],
   "source": [
    "# create a sqlite3 database named 'vancouver.db'\n",
    "conn = sqlite3.connect('../data/vancouver.db')\n",
    "conn.close()"
   ]
  },
  {
   "attachments": {},
   "cell_type": "markdown",
   "metadata": {},
   "source": [
    "Loading csv files\n",
    "1. Citybike Vancouver: `citybikes_vancouver.csv`\n",
    "2. Citybike Foursquare Vancouver: `cb_fsq_vancouver.csv`\n",
    "3. Citybike Foursquare Tips: `cb_fsq_tips_vancouver.csv`\n",
    "4. Citybike Yelp Vancouver: `cb_yelp_vancouver.csv`\n",
    "5. Citybike average ratings: `cb_avg_ratings.csv`"
   ]
  },
  {
   "cell_type": "code",
   "execution_count": 45,
   "metadata": {},
   "outputs": [],
   "source": [
    "# laod cb_vancouver.csv\n",
    "cb_vancouver = pd.read_csv('../data/citybikes_vancouver.csv')\n",
    "# load cb_fsq_vancouver.csv\n",
    "cb_fsq_vancouver = pd.read_csv('../data/cb_fsq_vancouver.csv')\n",
    "# load cb_fsq_tips_vancouver.csv\n",
    "cb_fsq_tips_vancouver = pd.read_csv('../data/cb_fsq_tips_vancouver.csv')\n",
    "# load cb_yelp_vancouver.csv\n",
    "cb_yelp_vancouver = pd.read_csv('../data/cb_yelp_vancouver.csv')\n",
    "# load cb_avg_ratings.csv\n",
    "cb_avg_ratings = pd.read_csv('../data/cb_avg_ratings.csv')"
   ]
  },
  {
   "cell_type": "markdown",
   "metadata": {},
   "source": [
    "Creating table for citybikes_vancouver.csv\n",
    "Here `primary key` is `cb_id`"
   ]
  },
  {
   "cell_type": "code",
   "execution_count": 27,
   "metadata": {},
   "outputs": [],
   "source": [
    "# Connect to the database\n",
    "conn = sqlite3.connect('database.db')\n",
    "\n",
    "# Drop the table if it exists\n",
    "conn.execute('DROP TABLE IF EXISTS cb_vancouver')\n",
    "\n",
    "# Create the table\n",
    "conn.execute('''CREATE TABLE cb_vancouver (\n",
    "                    name TEXT,\n",
    "                    latitude REAL,\n",
    "                    longitude REAL,\n",
    "                    free_bikes INTEGER,\n",
    "                    cb_id TEXT PRIMARY KEY\n",
    "                )''')\n",
    "\n",
    "# Insert the data into the table\n",
    "cb_vancouver.to_sql('cb_vancouver', conn, if_exists='append', index=False)\n",
    "\n",
    "# Commit the changes and close the connection\n",
    "conn.commit()\n",
    "conn.close()"
   ]
  },
  {
   "attachments": {},
   "cell_type": "markdown",
   "metadata": {},
   "source": [
    "Creating table for citybikes `Foursquare` vancouver\n",
    "FSQ_ID is `foreign key`"
   ]
  },
  {
   "cell_type": "code",
   "execution_count": 37,
   "metadata": {},
   "outputs": [],
   "source": [
    "# Connect to the database\n",
    "conn = sqlite3.connect('database.db')\n",
    "\n",
    "# Drop the table if it already exists\n",
    "conn.execute(\"DROP TABLE IF EXISTS cb_fsq_vancouver\")\n",
    "\n",
    "# Create the table\n",
    "conn.execute('''CREATE TABLE cb_fsq_vancouver (\n",
    "                    fsq_id TEXT,\n",
    "                    station TEXT,\n",
    "                    category TEXT,\n",
    "                    name TEXT,\n",
    "                    address TEXT,\n",
    "                    lat REAL,\n",
    "                    long REAL,\n",
    "                    site TEXT,\n",
    "                    cb_id TEXT,\n",
    "                    FOREIGN KEY (fsq_id) REFERENCES cb_fsq_vancouver(fsq_id)\n",
    "                )''')\n",
    "\n",
    "# Insert the data from the DataFrame into the table\n",
    "cb_fsq_vancouver.to_sql('cb_fsq_vancouver', conn, if_exists='append', index=False)\n",
    "\n",
    "# Commit the changes and close the connection\n",
    "conn.commit()\n",
    "conn.close()"
   ]
  },
  {
   "attachments": {},
   "cell_type": "markdown",
   "metadata": {},
   "source": [
    "Creating table for citybikes `Foursquare` vancouver reviews (tips)<br/>\n",
    "id is `primary key`<br/>\n",
    "fsq_id is `foreign key`"
   ]
  },
  {
   "cell_type": "code",
   "execution_count": 36,
   "metadata": {},
   "outputs": [],
   "source": [
    "# Connect to a SQLite database\n",
    "conn = sqlite3.connect('database.db')\n",
    "\n",
    "# Drop the table if it already exists\n",
    "conn.execute('DROP TABLE IF EXISTS cb_fsq_vancouver_tips')\n",
    "\n",
    "# Create a new table with the right datatypes\n",
    "conn.execute('''CREATE TABLE cb_fsq_vancouver_tips (\n",
    "                    id TEXT,\n",
    "                    created_at TEXT,\n",
    "                    text TEXT,\n",
    "                    fsq_id TEXT,\n",
    "                    PRIMARY KEY (id),\n",
    "                    FOREIGN KEY (fsq_id) REFERENCES cb_fsq_vancouver(fsq_id)\n",
    "                )''')\n",
    "\n",
    "# Insert the DataFrame into the SQLite table\n",
    "cb_fsq_tips_vancouver.to_sql('cb_fsq_vancouver_reviews', conn, if_exists='append', index=False)\n",
    "\n",
    "# Commit the changes and close the connection\n",
    "conn.commit()\n",
    "conn.close()"
   ]
  },
  {
   "attachments": {},
   "cell_type": "markdown",
   "metadata": {},
   "source": [
    "Create a table cb_yelp_vancouver in database.db<br/>\n",
    "cb_id is `foriegn key`"
   ]
  },
  {
   "cell_type": "code",
   "execution_count": 42,
   "metadata": {},
   "outputs": [],
   "source": [
    "# Connect to the database\n",
    "conn = sqlite3.connect('database.db')\n",
    "\n",
    "# Drop the table if it already exists\n",
    "conn.execute('DROP TABLE IF EXISTS cb_yelp_vancouver')\n",
    "\n",
    "# Create the table\n",
    "conn.execute('''CREATE TABLE cb_yelp_vancouver (\n",
    "                    title TEXT,\n",
    "                    name TEXT,\n",
    "                    address TEXT,\n",
    "                    lat REAL,\n",
    "                    long REAL,\n",
    "                    rating REAL,\n",
    "                    review_count INTEGER,\n",
    "                    site TEXT,\n",
    "                    cb_id TEXT FORIEGN KEY\n",
    "                )''')\n",
    "\n",
    "# Insert the DataFrame into the SQLite table\n",
    "cb_yelp_vancouver.to_sql('cb_yelp_vancouver', conn, if_exists='append', index=False)\n",
    "\n",
    "\n",
    "# Commit the changes and close the connection\n",
    "conn.commit()\n",
    "conn.close()"
   ]
  },
  {
   "attachments": {},
   "cell_type": "markdown",
   "metadata": {},
   "source": [
    "Create a table cb_avg_ratings for Vancouver in database.db<br/>\n",
    "cb_id is `primary key`"
   ]
  },
  {
   "cell_type": "code",
   "execution_count": 48,
   "metadata": {},
   "outputs": [],
   "source": [
    "# Connect to database\n",
    "conn = sqlite3.connect('database.db')\n",
    "\n",
    "# Drop table if exists\n",
    "conn.execute('DROP TABLE IF EXISTS cb_avg_ratings')\n",
    "\n",
    "# Create the table\n",
    "conn.execute('''CREATE TABLE cb_avg_ratings (\n",
    "                    cb_id TEXT PRIMARY KEY,\n",
    "                    avg_fsq_review REAL,\n",
    "                    avg_yelp_review REAL,\n",
    "                    avg_yelp_rating REAL,\n",
    "                    name TEXT,\n",
    "                    latitude REAL,\n",
    "                    longitude REAL,\n",
    "                    free_bikes INTEGER\n",
    "                )''')\n",
    "\n",
    "# Insert the DataFrame into the SQLite table\n",
    "cb_avg_ratings.to_sql('cb_avg_ratings', conn, if_exists='append', index=False)\n",
    "\n",
    "# Commit changes and close connection\n",
    "conn.commit()\n",
    "conn.close()"
   ]
  },
  {
   "cell_type": "markdown",
   "metadata": {},
   "source": [
    "Look at the data before and after the join to validate your data."
   ]
  },
  {
   "attachments": {},
   "cell_type": "markdown",
   "metadata": {},
   "source": [
    "Here are list of records where `free_bikes are more than 20` and `average rating is more than 4.0`"
   ]
  },
  {
   "cell_type": "code",
   "execution_count": 57,
   "metadata": {},
   "outputs": [
    {
     "name": "stdout",
     "output_type": "stream",
     "text": [
      "('cb_0', 19.8, 297.85, 4.025, '10th & Cambie')\n",
      "('cb_110', 16.666666666666668, 219.6, 4.15, 'Adanac & McLean')\n",
      "('cb_13', 24.1, 905.4, 4.2, 'Cordova & Granville')\n",
      "('cb_171', 31.22222222222222, 502.05, 4.2, 'Aquatic Centre')\n",
      "('cb_214', 25.8, 559.05, 4.225, 'Davie & Beach')\n",
      "('cb_27', 13.11111111111111, 899.35, 4.2, 'Cambie & Water')\n",
      "('cb_28', 25.9, 902.45, 4.275, 'Keefer & Abbott')\n",
      "('cb_31', 30.4, 788.0, 4.275, 'Marinaside & Cooperage')\n",
      "('cb_44', 20.3, 319.65, 4.2, 'Vanier Park')\n",
      "('cb_83', 25.7, 288.8, 4.05, 'Kitsilano Beach Park')\n"
     ]
    }
   ],
   "source": [
    "# Connect to the database\n",
    "conn = sqlite3.connect('database.db')\n",
    "\n",
    "# Create a cursor\n",
    "cur = conn.cursor()\n",
    "\n",
    "# Execute the query\n",
    "cur.execute(\"SELECT cb_id, avg_fsq_review, avg_yelp_review, avg_yelp_rating, name FROM cb_avg_ratings WHERE free_bikes > 20 AND avg_yelp_rating >= 4.0\")\n",
    "\n",
    "# Fetch and print the results\n",
    "results = cur.fetchall()\n",
    "for row in results:\n",
    "    print(row)\n",
    "\n",
    "# Close the cursor and connection\n",
    "cur.close()\n",
    "conn.close()"
   ]
  }
 ],
 "metadata": {
  "kernelspec": {
   "display_name": "Python 3",
   "language": "python",
   "name": "python3"
  },
  "language_info": {
   "codemirror_mode": {
    "name": "ipython",
    "version": 3
   },
   "file_extension": ".py",
   "mimetype": "text/x-python",
   "name": "python",
   "nbconvert_exporter": "python",
   "pygments_lexer": "ipython3",
   "version": "3.9.13"
  }
 },
 "nbformat": 4,
 "nbformat_minor": 4
}
