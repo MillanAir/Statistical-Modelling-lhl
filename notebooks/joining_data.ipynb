{
 "cells": [
  {
   "cell_type": "markdown",
   "metadata": {},
   "source": [
    "Join the data from Part 1 with the data from Part 2 to create a new dataframe."
   ]
  },
  {
   "cell_type": "code",
   "execution_count": 284,
   "metadata": {},
   "outputs": [],
   "source": [
    "#Getting necessary imports\n",
    "import pandas as pd"
   ]
  },
  {
   "attachments": {},
   "cell_type": "markdown",
   "metadata": {},
   "source": [
    "Getting part 1 data, **citybikes_vancouver.csv**"
   ]
  },
  {
   "cell_type": "code",
   "execution_count": 285,
   "metadata": {},
   "outputs": [],
   "source": [
    "#load city_bikes_vancouver.csv\n",
    "cb_vancouver = pd.read_csv('../data/citybikes_vancouver.csv')"
   ]
  },
  {
   "attachments": {},
   "cell_type": "markdown",
   "metadata": {},
   "source": [
    "Getting part 2 data\n",
    "\n",
    "1. Foursquare\n",
    "2. Yelp"
   ]
  },
  {
   "cell_type": "code",
   "execution_count": 286,
   "metadata": {},
   "outputs": [],
   "source": [
    "# Foursquare\n",
    "#load cb_fsq_vancouver.csv\n",
    "cb_fsq_vancouver = pd.read_csv('../data/cb_fsq_vancouver.csv')\n",
    "#load cb_fsq_vancouver_tips\n",
    "cb_fsq_vancouver_tips = pd.read_csv('../data/cb_fsq_tips_vancouver.csv')"
   ]
  },
  {
   "cell_type": "code",
   "execution_count": 287,
   "metadata": {},
   "outputs": [],
   "source": [
    "#get the count of fsq_id in tips\n",
    "tips_count = cb_fsq_vancouver_tips.groupby('fsq_id').size().reset_index(name='review_count')\n",
    "\n",
    "#merge cb_fsq_vancouver and tips_count\n",
    "cb_fsq_vancouver = pd.merge(cb_fsq_vancouver, tips_count, on='fsq_id', how='left')"
   ]
  },
  {
   "cell_type": "code",
   "execution_count": 288,
   "metadata": {},
   "outputs": [
    {
     "data": {
      "text/plain": [
       "0    49.263\n",
       "1    49.262\n",
       "2    49.263\n",
       "3    49.263\n",
       "4    49.263\n",
       "Name: lat, dtype: float64"
      ]
     },
     "execution_count": 288,
     "metadata": {},
     "output_type": "execute_result"
    }
   ],
   "source": [
    "#round lat and long to 3 decimal places\n",
    "cb_fsq_vancouver['lat'] = cb_fsq_vancouver['lat'].round(3)\n",
    "cb_fsq_vancouver['long'] = cb_fsq_vancouver['long'].round(3)\n",
    "\n",
    "cb_fsq_vancouver['lat'].head()"
   ]
  },
  {
   "cell_type": "code",
   "execution_count": 289,
   "metadata": {},
   "outputs": [
    {
     "data": {
      "text/plain": [
       "0    V5Z3Y6\n",
       "1    V5Z1K9\n",
       "2    V5Y1R4\n",
       "3    V5T1X5\n",
       "4    V5Z1E9\n",
       "Name: postal_code, dtype: object"
      ]
     },
     "execution_count": 289,
     "metadata": {},
     "output_type": "execute_result"
    }
   ],
   "source": [
    "#get postal codes from address\n",
    "cb_fsq_vancouver['postal_code'] = cb_fsq_vancouver['address'].str.split(',').str[-1].str.strip()\n",
    "#remove 'Vancouver BC' from address\n",
    "cb_fsq_vancouver['postal_code'] = cb_fsq_vancouver['postal_code'].str.replace('Vancouver BC', '')\n",
    "#remove space\n",
    "cb_fsq_vancouver['postal_code'] = cb_fsq_vancouver['postal_code'].str.replace(' ','')\n",
    "\n",
    "cb_fsq_vancouver['postal_code'].head()"
   ]
  },
  {
   "cell_type": "code",
   "execution_count": 290,
   "metadata": {},
   "outputs": [
    {
     "name": "stderr",
     "output_type": "stream",
     "text": [
      "C:\\Users\\milan\\AppData\\Local\\Temp\\ipykernel_2384\\923451847.py:5: FutureWarning: The default value of regex will change from True to False in a future version.\n",
      "  cb_fsq_vancouver['number'] = cb_fsq_vancouver['number'].str.replace('[^0-9]','')\n"
     ]
    },
    {
     "data": {
      "text/plain": [
       "0    2559\n",
       "1     501\n",
       "2     451\n",
       "3     530\n",
       "4     532\n",
       "Name: number, dtype: object"
      ]
     },
     "execution_count": 290,
     "metadata": {},
     "output_type": "execute_result"
    }
   ],
   "source": [
    "# from address extract number\n",
    "cb_fsq_vancouver['number'] = cb_fsq_vancouver['address'].str.split(' ').str[0]\n",
    "\n",
    "# remove string from number and save only integers\n",
    "cb_fsq_vancouver['number'] = cb_fsq_vancouver['number'].str.replace('[^0-9]','')\n",
    "\n",
    "cb_fsq_vancouver['number'].head()"
   ]
  },
  {
   "cell_type": "code",
   "execution_count": 291,
   "metadata": {},
   "outputs": [],
   "source": [
    "#Yelp\n",
    "#load cb_yelp_vancouver.csv\n",
    "cb_yelp_vancouver = pd.read_csv('../data/cb_yelp_vancouver.csv')"
   ]
  },
  {
   "cell_type": "code",
   "execution_count": 292,
   "metadata": {},
   "outputs": [
    {
     "name": "stderr",
     "output_type": "stream",
     "text": [
      "C:\\Users\\milan\\AppData\\Local\\Temp\\ipykernel_2384\\2726789357.py:5: FutureWarning: The default value of regex will change from True to False in a future version. In addition, single character regular expressions will *not* be treated as literal strings when regex=True.\n",
      "  cb_yelp_vancouver['address'] = cb_yelp_vancouver['address'].str.replace('[','').str.replace(']','').str.replace(\"'\",'')\n"
     ]
    },
    {
     "data": {
      "text/html": [
       "<div>\n",
       "<style scoped>\n",
       "    .dataframe tbody tr th:only-of-type {\n",
       "        vertical-align: middle;\n",
       "    }\n",
       "\n",
       "    .dataframe tbody tr th {\n",
       "        vertical-align: top;\n",
       "    }\n",
       "\n",
       "    .dataframe thead th {\n",
       "        text-align: right;\n",
       "    }\n",
       "</style>\n",
       "<table border=\"1\" class=\"dataframe\">\n",
       "  <thead>\n",
       "    <tr style=\"text-align: right;\">\n",
       "      <th></th>\n",
       "      <th>title</th>\n",
       "      <th>name</th>\n",
       "      <th>address</th>\n",
       "      <th>lat</th>\n",
       "      <th>long</th>\n",
       "      <th>rating</th>\n",
       "      <th>review_count</th>\n",
       "      <th>site</th>\n",
       "      <th>cb_id</th>\n",
       "    </tr>\n",
       "  </thead>\n",
       "  <tbody>\n",
       "    <tr>\n",
       "      <th>0</th>\n",
       "      <td>Mexican</td>\n",
       "      <td>La Taqueria Pinche Taco Shop</td>\n",
       "      <td>2450 Yukon Street, Vancouver, BC V5Z 3V6, Canada</td>\n",
       "      <td>49.264</td>\n",
       "      <td>-123.113</td>\n",
       "      <td>4.0</td>\n",
       "      <td>680</td>\n",
       "      <td>Yelp</td>\n",
       "      <td>cb_0</td>\n",
       "    </tr>\n",
       "    <tr>\n",
       "      <th>1</th>\n",
       "      <td>Noodles</td>\n",
       "      <td>Peaceful Restaurant</td>\n",
       "      <td>110-532 W Broadway, Vancouver, BC V5Z 1E9, Canada</td>\n",
       "      <td>49.263</td>\n",
       "      <td>-123.116</td>\n",
       "      <td>3.5</td>\n",
       "      <td>620</td>\n",
       "      <td>Yelp</td>\n",
       "      <td>cb_0</td>\n",
       "    </tr>\n",
       "    <tr>\n",
       "      <th>2</th>\n",
       "      <td>Cafes</td>\n",
       "      <td>Marulilu Cafe</td>\n",
       "      <td>451 W Broadway, Vancouver, BC V5Y 1R4, Canada</td>\n",
       "      <td>49.263</td>\n",
       "      <td>-123.114</td>\n",
       "      <td>4.0</td>\n",
       "      <td>284</td>\n",
       "      <td>Yelp</td>\n",
       "      <td>cb_0</td>\n",
       "    </tr>\n",
       "    <tr>\n",
       "      <th>3</th>\n",
       "      <td>Japanese</td>\n",
       "      <td>Saku</td>\n",
       "      <td>548 W Broadway, Vancouver, BC V5Z 1E9, Canada</td>\n",
       "      <td>49.263</td>\n",
       "      <td>-123.117</td>\n",
       "      <td>4.5</td>\n",
       "      <td>202</td>\n",
       "      <td>Yelp</td>\n",
       "      <td>cb_0</td>\n",
       "    </tr>\n",
       "    <tr>\n",
       "      <th>4</th>\n",
       "      <td>Soup</td>\n",
       "      <td>Hokkaido Ramen Santouka</td>\n",
       "      <td>558 W Broadway, Vancouver, BC V5Z 1E9, Canada</td>\n",
       "      <td>49.263</td>\n",
       "      <td>-123.117</td>\n",
       "      <td>4.0</td>\n",
       "      <td>221</td>\n",
       "      <td>Yelp</td>\n",
       "      <td>cb_0</td>\n",
       "    </tr>\n",
       "  </tbody>\n",
       "</table>\n",
       "</div>"
      ],
      "text/plain": [
       "      title                          name  \\\n",
       "0   Mexican  La Taqueria Pinche Taco Shop   \n",
       "1   Noodles           Peaceful Restaurant   \n",
       "2     Cafes                 Marulilu Cafe   \n",
       "3  Japanese                          Saku   \n",
       "4      Soup       Hokkaido Ramen Santouka   \n",
       "\n",
       "                                             address     lat     long  rating  \\\n",
       "0   2450 Yukon Street, Vancouver, BC V5Z 3V6, Canada  49.264 -123.113     4.0   \n",
       "1  110-532 W Broadway, Vancouver, BC V5Z 1E9, Canada  49.263 -123.116     3.5   \n",
       "2      451 W Broadway, Vancouver, BC V5Y 1R4, Canada  49.263 -123.114     4.0   \n",
       "3      548 W Broadway, Vancouver, BC V5Z 1E9, Canada  49.263 -123.117     4.5   \n",
       "4      558 W Broadway, Vancouver, BC V5Z 1E9, Canada  49.263 -123.117     4.0   \n",
       "\n",
       "   review_count  site cb_id  \n",
       "0           680  Yelp  cb_0  \n",
       "1           620  Yelp  cb_0  \n",
       "2           284  Yelp  cb_0  \n",
       "3           202  Yelp  cb_0  \n",
       "4           221  Yelp  cb_0  "
      ]
     },
     "execution_count": 292,
     "metadata": {},
     "output_type": "execute_result"
    }
   ],
   "source": [
    "#round the latitude and longitude to 2 decimal places\n",
    "cb_yelp_vancouver['lat'] = cb_yelp_vancouver['lat'].round(3)\n",
    "cb_yelp_vancouver['long'] = cb_yelp_vancouver['long'].round(3)\n",
    "#drop square brackets and single quotes from the address column\n",
    "cb_yelp_vancouver['address'] = cb_yelp_vancouver['address'].str.replace('[','').str.replace(']','').str.replace(\"'\",'')\n",
    "\n",
    "cb_yelp_vancouver.head()\n"
   ]
  },
  {
   "cell_type": "code",
   "execution_count": 293,
   "metadata": {},
   "outputs": [
    {
     "data": {
      "text/html": [
       "<div>\n",
       "<style scoped>\n",
       "    .dataframe tbody tr th:only-of-type {\n",
       "        vertical-align: middle;\n",
       "    }\n",
       "\n",
       "    .dataframe tbody tr th {\n",
       "        vertical-align: top;\n",
       "    }\n",
       "\n",
       "    .dataframe thead th {\n",
       "        text-align: right;\n",
       "    }\n",
       "</style>\n",
       "<table border=\"1\" class=\"dataframe\">\n",
       "  <thead>\n",
       "    <tr style=\"text-align: right;\">\n",
       "      <th></th>\n",
       "      <th>title</th>\n",
       "      <th>name</th>\n",
       "      <th>address</th>\n",
       "      <th>lat</th>\n",
       "      <th>long</th>\n",
       "      <th>rating</th>\n",
       "      <th>review_count</th>\n",
       "      <th>site</th>\n",
       "      <th>cb_id</th>\n",
       "      <th>postal_code</th>\n",
       "    </tr>\n",
       "  </thead>\n",
       "  <tbody>\n",
       "    <tr>\n",
       "      <th>0</th>\n",
       "      <td>Mexican</td>\n",
       "      <td>La Taqueria Pinche Taco Shop</td>\n",
       "      <td>2450 Yukon Street, Vancouver, BC V5Z 3V6, Canada</td>\n",
       "      <td>49.264</td>\n",
       "      <td>-123.113</td>\n",
       "      <td>4.0</td>\n",
       "      <td>680</td>\n",
       "      <td>Yelp</td>\n",
       "      <td>cb_0</td>\n",
       "      <td>V5Z3V6</td>\n",
       "    </tr>\n",
       "    <tr>\n",
       "      <th>1</th>\n",
       "      <td>Noodles</td>\n",
       "      <td>Peaceful Restaurant</td>\n",
       "      <td>110-532 W Broadway, Vancouver, BC V5Z 1E9, Canada</td>\n",
       "      <td>49.263</td>\n",
       "      <td>-123.116</td>\n",
       "      <td>3.5</td>\n",
       "      <td>620</td>\n",
       "      <td>Yelp</td>\n",
       "      <td>cb_0</td>\n",
       "      <td>V5Z1E9</td>\n",
       "    </tr>\n",
       "    <tr>\n",
       "      <th>2</th>\n",
       "      <td>Cafes</td>\n",
       "      <td>Marulilu Cafe</td>\n",
       "      <td>451 W Broadway, Vancouver, BC V5Y 1R4, Canada</td>\n",
       "      <td>49.263</td>\n",
       "      <td>-123.114</td>\n",
       "      <td>4.0</td>\n",
       "      <td>284</td>\n",
       "      <td>Yelp</td>\n",
       "      <td>cb_0</td>\n",
       "      <td>V5Y1R4</td>\n",
       "    </tr>\n",
       "    <tr>\n",
       "      <th>3</th>\n",
       "      <td>Japanese</td>\n",
       "      <td>Saku</td>\n",
       "      <td>548 W Broadway, Vancouver, BC V5Z 1E9, Canada</td>\n",
       "      <td>49.263</td>\n",
       "      <td>-123.117</td>\n",
       "      <td>4.5</td>\n",
       "      <td>202</td>\n",
       "      <td>Yelp</td>\n",
       "      <td>cb_0</td>\n",
       "      <td>V5Z1E9</td>\n",
       "    </tr>\n",
       "    <tr>\n",
       "      <th>4</th>\n",
       "      <td>Soup</td>\n",
       "      <td>Hokkaido Ramen Santouka</td>\n",
       "      <td>558 W Broadway, Vancouver, BC V5Z 1E9, Canada</td>\n",
       "      <td>49.263</td>\n",
       "      <td>-123.117</td>\n",
       "      <td>4.0</td>\n",
       "      <td>221</td>\n",
       "      <td>Yelp</td>\n",
       "      <td>cb_0</td>\n",
       "      <td>V5Z1E9</td>\n",
       "    </tr>\n",
       "  </tbody>\n",
       "</table>\n",
       "</div>"
      ],
      "text/plain": [
       "      title                          name  \\\n",
       "0   Mexican  La Taqueria Pinche Taco Shop   \n",
       "1   Noodles           Peaceful Restaurant   \n",
       "2     Cafes                 Marulilu Cafe   \n",
       "3  Japanese                          Saku   \n",
       "4      Soup       Hokkaido Ramen Santouka   \n",
       "\n",
       "                                             address     lat     long  rating  \\\n",
       "0   2450 Yukon Street, Vancouver, BC V5Z 3V6, Canada  49.264 -123.113     4.0   \n",
       "1  110-532 W Broadway, Vancouver, BC V5Z 1E9, Canada  49.263 -123.116     3.5   \n",
       "2      451 W Broadway, Vancouver, BC V5Y 1R4, Canada  49.263 -123.114     4.0   \n",
       "3      548 W Broadway, Vancouver, BC V5Z 1E9, Canada  49.263 -123.117     4.5   \n",
       "4      558 W Broadway, Vancouver, BC V5Z 1E9, Canada  49.263 -123.117     4.0   \n",
       "\n",
       "   review_count  site cb_id postal_code  \n",
       "0           680  Yelp  cb_0      V5Z3V6  \n",
       "1           620  Yelp  cb_0      V5Z1E9  \n",
       "2           284  Yelp  cb_0      V5Y1R4  \n",
       "3           202  Yelp  cb_0      V5Z1E9  \n",
       "4           221  Yelp  cb_0      V5Z1E9  "
      ]
     },
     "execution_count": 293,
     "metadata": {},
     "output_type": "execute_result"
    }
   ],
   "source": [
    "#from address column get the postal code\n",
    "cb_yelp_vancouver['postal_code'] = cb_yelp_vancouver['address'].str.split(',').str[-2].str.strip()\n",
    "#remove 'BC' from postal_code column\n",
    "cb_yelp_vancouver['postal_code'] = cb_yelp_vancouver['postal_code'].str.replace('BC','')\n",
    "#remove space from postal_code column\n",
    "cb_yelp_vancouver['postal_code'] = cb_yelp_vancouver['postal_code'].str.replace(' ','')\n",
    "\n",
    "cb_yelp_vancouver.head()\n"
   ]
  },
  {
   "cell_type": "code",
   "execution_count": 294,
   "metadata": {},
   "outputs": [
    {
     "name": "stderr",
     "output_type": "stream",
     "text": [
      "C:\\Users\\milan\\AppData\\Local\\Temp\\ipykernel_2384\\4026550513.py:5: FutureWarning: The default value of regex will change from True to False in a future version.\n",
      "  cb_yelp_vancouver['number'] = cb_fsq_vancouver['number'].str.replace('[^0-9]','')\n"
     ]
    },
    {
     "data": {
      "text/html": [
       "<div>\n",
       "<style scoped>\n",
       "    .dataframe tbody tr th:only-of-type {\n",
       "        vertical-align: middle;\n",
       "    }\n",
       "\n",
       "    .dataframe tbody tr th {\n",
       "        vertical-align: top;\n",
       "    }\n",
       "\n",
       "    .dataframe thead th {\n",
       "        text-align: right;\n",
       "    }\n",
       "</style>\n",
       "<table border=\"1\" class=\"dataframe\">\n",
       "  <thead>\n",
       "    <tr style=\"text-align: right;\">\n",
       "      <th></th>\n",
       "      <th>title</th>\n",
       "      <th>name</th>\n",
       "      <th>address</th>\n",
       "      <th>lat</th>\n",
       "      <th>long</th>\n",
       "      <th>rating</th>\n",
       "      <th>review_count</th>\n",
       "      <th>site</th>\n",
       "      <th>cb_id</th>\n",
       "      <th>postal_code</th>\n",
       "      <th>number</th>\n",
       "    </tr>\n",
       "  </thead>\n",
       "  <tbody>\n",
       "    <tr>\n",
       "      <th>0</th>\n",
       "      <td>Mexican</td>\n",
       "      <td>La Taqueria Pinche Taco Shop</td>\n",
       "      <td>2450 Yukon Street, Vancouver, BC V5Z 3V6, Canada</td>\n",
       "      <td>49.264</td>\n",
       "      <td>-123.113</td>\n",
       "      <td>4.0</td>\n",
       "      <td>680</td>\n",
       "      <td>Yelp</td>\n",
       "      <td>cb_0</td>\n",
       "      <td>V5Z3V6</td>\n",
       "      <td>2559</td>\n",
       "    </tr>\n",
       "    <tr>\n",
       "      <th>1</th>\n",
       "      <td>Noodles</td>\n",
       "      <td>Peaceful Restaurant</td>\n",
       "      <td>110-532 W Broadway, Vancouver, BC V5Z 1E9, Canada</td>\n",
       "      <td>49.263</td>\n",
       "      <td>-123.116</td>\n",
       "      <td>3.5</td>\n",
       "      <td>620</td>\n",
       "      <td>Yelp</td>\n",
       "      <td>cb_0</td>\n",
       "      <td>V5Z1E9</td>\n",
       "      <td>501</td>\n",
       "    </tr>\n",
       "    <tr>\n",
       "      <th>2</th>\n",
       "      <td>Cafes</td>\n",
       "      <td>Marulilu Cafe</td>\n",
       "      <td>451 W Broadway, Vancouver, BC V5Y 1R4, Canada</td>\n",
       "      <td>49.263</td>\n",
       "      <td>-123.114</td>\n",
       "      <td>4.0</td>\n",
       "      <td>284</td>\n",
       "      <td>Yelp</td>\n",
       "      <td>cb_0</td>\n",
       "      <td>V5Y1R4</td>\n",
       "      <td>451</td>\n",
       "    </tr>\n",
       "    <tr>\n",
       "      <th>3</th>\n",
       "      <td>Japanese</td>\n",
       "      <td>Saku</td>\n",
       "      <td>548 W Broadway, Vancouver, BC V5Z 1E9, Canada</td>\n",
       "      <td>49.263</td>\n",
       "      <td>-123.117</td>\n",
       "      <td>4.5</td>\n",
       "      <td>202</td>\n",
       "      <td>Yelp</td>\n",
       "      <td>cb_0</td>\n",
       "      <td>V5Z1E9</td>\n",
       "      <td>530</td>\n",
       "    </tr>\n",
       "    <tr>\n",
       "      <th>4</th>\n",
       "      <td>Soup</td>\n",
       "      <td>Hokkaido Ramen Santouka</td>\n",
       "      <td>558 W Broadway, Vancouver, BC V5Z 1E9, Canada</td>\n",
       "      <td>49.263</td>\n",
       "      <td>-123.117</td>\n",
       "      <td>4.0</td>\n",
       "      <td>221</td>\n",
       "      <td>Yelp</td>\n",
       "      <td>cb_0</td>\n",
       "      <td>V5Z1E9</td>\n",
       "      <td>532</td>\n",
       "    </tr>\n",
       "  </tbody>\n",
       "</table>\n",
       "</div>"
      ],
      "text/plain": [
       "      title                          name  \\\n",
       "0   Mexican  La Taqueria Pinche Taco Shop   \n",
       "1   Noodles           Peaceful Restaurant   \n",
       "2     Cafes                 Marulilu Cafe   \n",
       "3  Japanese                          Saku   \n",
       "4      Soup       Hokkaido Ramen Santouka   \n",
       "\n",
       "                                             address     lat     long  rating  \\\n",
       "0   2450 Yukon Street, Vancouver, BC V5Z 3V6, Canada  49.264 -123.113     4.0   \n",
       "1  110-532 W Broadway, Vancouver, BC V5Z 1E9, Canada  49.263 -123.116     3.5   \n",
       "2      451 W Broadway, Vancouver, BC V5Y 1R4, Canada  49.263 -123.114     4.0   \n",
       "3      548 W Broadway, Vancouver, BC V5Z 1E9, Canada  49.263 -123.117     4.5   \n",
       "4      558 W Broadway, Vancouver, BC V5Z 1E9, Canada  49.263 -123.117     4.0   \n",
       "\n",
       "   review_count  site cb_id postal_code number  \n",
       "0           680  Yelp  cb_0      V5Z3V6   2559  \n",
       "1           620  Yelp  cb_0      V5Z1E9    501  \n",
       "2           284  Yelp  cb_0      V5Y1R4    451  \n",
       "3           202  Yelp  cb_0      V5Z1E9    530  \n",
       "4           221  Yelp  cb_0      V5Z1E9    532  "
      ]
     },
     "execution_count": 294,
     "metadata": {},
     "output_type": "execute_result"
    }
   ],
   "source": [
    "# from address extract number\n",
    "cb_yelp_vancouver['number'] = cb_yelp_vancouver['address'].str.split(' ').str[0]\n",
    "\n",
    "# remove string from number and save only integers\n",
    "cb_yelp_vancouver['number'] = cb_fsq_vancouver['number'].str.replace('[^0-9]','')\n",
    "\n",
    "#if there is a '-' in value then use only second value\n",
    "if '-' in cb_yelp_vancouver['number']:\n",
    "    cb_yelp_vancouver['number'] = cb_yelp_vancouver['number'].str.split('-').str[1]\n",
    "\n",
    "cb_yelp_vancouver.head()"
   ]
  },
  {
   "cell_type": "code",
   "execution_count": 295,
   "metadata": {},
   "outputs": [
    {
     "data": {
      "text/html": [
       "<div>\n",
       "<style scoped>\n",
       "    .dataframe tbody tr th:only-of-type {\n",
       "        vertical-align: middle;\n",
       "    }\n",
       "\n",
       "    .dataframe tbody tr th {\n",
       "        vertical-align: top;\n",
       "    }\n",
       "\n",
       "    .dataframe thead th {\n",
       "        text-align: right;\n",
       "    }\n",
       "</style>\n",
       "<table border=\"1\" class=\"dataframe\">\n",
       "  <thead>\n",
       "    <tr style=\"text-align: right;\">\n",
       "      <th></th>\n",
       "      <th>fsq_id</th>\n",
       "      <th>station</th>\n",
       "      <th>category</th>\n",
       "      <th>name_x</th>\n",
       "      <th>address_x</th>\n",
       "      <th>lat_x</th>\n",
       "      <th>long_x</th>\n",
       "      <th>site_x</th>\n",
       "      <th>cb_id</th>\n",
       "      <th>review_count_x</th>\n",
       "      <th>postal_code</th>\n",
       "      <th>number</th>\n",
       "      <th>title</th>\n",
       "      <th>name_y</th>\n",
       "      <th>address_y</th>\n",
       "      <th>lat_y</th>\n",
       "      <th>long_y</th>\n",
       "      <th>rating</th>\n",
       "      <th>review_count_y</th>\n",
       "      <th>site_y</th>\n",
       "    </tr>\n",
       "  </thead>\n",
       "  <tbody>\n",
       "    <tr>\n",
       "      <th>0</th>\n",
       "      <td>4fd3a01be4b0540d9cb027ea</td>\n",
       "      <td>10th &amp; Cambie</td>\n",
       "      <td>Café</td>\n",
       "      <td>Moii Cafe</td>\n",
       "      <td>2559 Cambie St (btwn W Broadway &amp; W 10th Ave),...</td>\n",
       "      <td>49.263</td>\n",
       "      <td>-123.115</td>\n",
       "      <td>Foursquare</td>\n",
       "      <td>cb_0</td>\n",
       "      <td>20.0</td>\n",
       "      <td>V5Z3Y6</td>\n",
       "      <td>2559</td>\n",
       "      <td>unavailable</td>\n",
       "      <td>unavailable</td>\n",
       "      <td>unavailable</td>\n",
       "      <td>unavailable</td>\n",
       "      <td>unavailable</td>\n",
       "      <td>unavailable</td>\n",
       "      <td>unavailable</td>\n",
       "      <td>unavailable</td>\n",
       "    </tr>\n",
       "    <tr>\n",
       "      <th>1</th>\n",
       "      <td>4bc290d674a9a593788ed3f6</td>\n",
       "      <td>10th &amp; Cambie</td>\n",
       "      <td>Banking and Finance</td>\n",
       "      <td>Vancity Savings Credit Union</td>\n",
       "      <td>501 10th Ave W, Vancouver BC V5Z 1K9</td>\n",
       "      <td>49.262</td>\n",
       "      <td>-123.115</td>\n",
       "      <td>Foursquare</td>\n",
       "      <td>cb_0</td>\n",
       "      <td>4.0</td>\n",
       "      <td>V5Z1K9</td>\n",
       "      <td>501</td>\n",
       "      <td>unavailable</td>\n",
       "      <td>unavailable</td>\n",
       "      <td>unavailable</td>\n",
       "      <td>unavailable</td>\n",
       "      <td>unavailable</td>\n",
       "      <td>unavailable</td>\n",
       "      <td>unavailable</td>\n",
       "      <td>unavailable</td>\n",
       "    </tr>\n",
       "    <tr>\n",
       "      <th>2</th>\n",
       "      <td>4b1db335f964a520211424e3</td>\n",
       "      <td>10th &amp; Cambie</td>\n",
       "      <td>Café</td>\n",
       "      <td>Marulilu Cafe</td>\n",
       "      <td>451W Broadway W (at Cambie St), Vancouver BC V...</td>\n",
       "      <td>49.263</td>\n",
       "      <td>-123.114</td>\n",
       "      <td>Foursquare</td>\n",
       "      <td>cb_0</td>\n",
       "      <td>30.0</td>\n",
       "      <td>V5Y1R4</td>\n",
       "      <td>451</td>\n",
       "      <td>Cafes</td>\n",
       "      <td>Marulilu Cafe</td>\n",
       "      <td>451 W Broadway, Vancouver, BC V5Y 1R4, Canada</td>\n",
       "      <td>49.263</td>\n",
       "      <td>-123.114</td>\n",
       "      <td>4.0</td>\n",
       "      <td>284.0</td>\n",
       "      <td>Yelp</td>\n",
       "    </tr>\n",
       "    <tr>\n",
       "      <th>3</th>\n",
       "      <td>4db0b65d4df03036e8c0960c</td>\n",
       "      <td>10th &amp; Cambie</td>\n",
       "      <td>Hair Salon</td>\n",
       "      <td>Space Salon</td>\n",
       "      <td>530W Broadway W (btw Ash &amp; Cambie), Vancouver ...</td>\n",
       "      <td>49.263</td>\n",
       "      <td>-123.116</td>\n",
       "      <td>Foursquare</td>\n",
       "      <td>cb_0</td>\n",
       "      <td>12.0</td>\n",
       "      <td>V5T1X5</td>\n",
       "      <td>530</td>\n",
       "      <td>unavailable</td>\n",
       "      <td>unavailable</td>\n",
       "      <td>unavailable</td>\n",
       "      <td>unavailable</td>\n",
       "      <td>unavailable</td>\n",
       "      <td>unavailable</td>\n",
       "      <td>unavailable</td>\n",
       "      <td>unavailable</td>\n",
       "    </tr>\n",
       "    <tr>\n",
       "      <th>4</th>\n",
       "      <td>4ab04bfaf964a520ed6620e3</td>\n",
       "      <td>10th &amp; Cambie</td>\n",
       "      <td>Dim Sum Restaurant</td>\n",
       "      <td>Peaceful Restaurant</td>\n",
       "      <td>532 Broadway W (btwn Cambie &amp; Ash), Vancouver ...</td>\n",
       "      <td>49.263</td>\n",
       "      <td>-123.116</td>\n",
       "      <td>Foursquare</td>\n",
       "      <td>cb_0</td>\n",
       "      <td>10.0</td>\n",
       "      <td>V5Z1E9</td>\n",
       "      <td>532</td>\n",
       "      <td>Soup</td>\n",
       "      <td>Hokkaido Ramen Santouka</td>\n",
       "      <td>558 W Broadway, Vancouver, BC V5Z 1E9, Canada</td>\n",
       "      <td>49.263</td>\n",
       "      <td>-123.117</td>\n",
       "      <td>4.0</td>\n",
       "      <td>221.0</td>\n",
       "      <td>Yelp</td>\n",
       "    </tr>\n",
       "  </tbody>\n",
       "</table>\n",
       "</div>"
      ],
      "text/plain": [
       "                     fsq_id        station             category  \\\n",
       "0  4fd3a01be4b0540d9cb027ea  10th & Cambie                 Café   \n",
       "1  4bc290d674a9a593788ed3f6  10th & Cambie  Banking and Finance   \n",
       "2  4b1db335f964a520211424e3  10th & Cambie                 Café   \n",
       "3  4db0b65d4df03036e8c0960c  10th & Cambie           Hair Salon   \n",
       "4  4ab04bfaf964a520ed6620e3  10th & Cambie   Dim Sum Restaurant   \n",
       "\n",
       "                         name_x  \\\n",
       "0                     Moii Cafe   \n",
       "1  Vancity Savings Credit Union   \n",
       "2                 Marulilu Cafe   \n",
       "3                   Space Salon   \n",
       "4           Peaceful Restaurant   \n",
       "\n",
       "                                           address_x   lat_x   long_x  \\\n",
       "0  2559 Cambie St (btwn W Broadway & W 10th Ave),...  49.263 -123.115   \n",
       "1               501 10th Ave W, Vancouver BC V5Z 1K9  49.262 -123.115   \n",
       "2  451W Broadway W (at Cambie St), Vancouver BC V...  49.263 -123.114   \n",
       "3  530W Broadway W (btw Ash & Cambie), Vancouver ...  49.263 -123.116   \n",
       "4  532 Broadway W (btwn Cambie & Ash), Vancouver ...  49.263 -123.116   \n",
       "\n",
       "       site_x cb_id review_count_x postal_code number        title  \\\n",
       "0  Foursquare  cb_0           20.0      V5Z3Y6   2559  unavailable   \n",
       "1  Foursquare  cb_0            4.0      V5Z1K9    501  unavailable   \n",
       "2  Foursquare  cb_0           30.0      V5Y1R4    451        Cafes   \n",
       "3  Foursquare  cb_0           12.0      V5T1X5    530  unavailable   \n",
       "4  Foursquare  cb_0           10.0      V5Z1E9    532         Soup   \n",
       "\n",
       "                    name_y                                      address_y  \\\n",
       "0              unavailable                                    unavailable   \n",
       "1              unavailable                                    unavailable   \n",
       "2            Marulilu Cafe  451 W Broadway, Vancouver, BC V5Y 1R4, Canada   \n",
       "3              unavailable                                    unavailable   \n",
       "4  Hokkaido Ramen Santouka  558 W Broadway, Vancouver, BC V5Z 1E9, Canada   \n",
       "\n",
       "         lat_y       long_y       rating review_count_y       site_y  \n",
       "0  unavailable  unavailable  unavailable    unavailable  unavailable  \n",
       "1  unavailable  unavailable  unavailable    unavailable  unavailable  \n",
       "2       49.263     -123.114          4.0          284.0         Yelp  \n",
       "3  unavailable  unavailable  unavailable    unavailable  unavailable  \n",
       "4       49.263     -123.117          4.0          221.0         Yelp  "
      ]
     },
     "execution_count": 295,
     "metadata": {},
     "output_type": "execute_result"
    }
   ],
   "source": [
    "# join cb_fsq_vancouver and cb_yelp_vancouver through cb_id, number, postal_code, lat, long\n",
    "cb_fsq_yelp_vancouver = pd.merge(cb_fsq_vancouver, cb_yelp_vancouver, on=['cb_id', 'number', 'postal_code'], how='outer')\n",
    "\n",
    "#fill Nan values with 'Not Available'\n",
    "cb_fsq_yelp_vancouver = cb_fsq_yelp_vancouver.fillna('unavailable')\n",
    "\n",
    "cb_fsq_yelp_vancouver.head()"
   ]
  },
  {
   "cell_type": "code",
   "execution_count": 296,
   "metadata": {},
   "outputs": [],
   "source": [
    "# drop columns that are not required\n",
    "cb_fsq_yelp_vancouver = cb_fsq_yelp_vancouver.drop(['lat_x', 'long_x', 'address_x', 'number'], axis=1)\n",
    "\n"
   ]
  },
  {
   "cell_type": "code",
   "execution_count": 297,
   "metadata": {},
   "outputs": [
    {
     "data": {
      "text/plain": [
       "fsq_id            7195\n",
       "station           7195\n",
       "category          7195\n",
       "name_x            7195\n",
       "site_x            7195\n",
       "cb_id             7195\n",
       "review_count_x    7195\n",
       "postal_code       7195\n",
       "title             7195\n",
       "name_y            7195\n",
       "address_y         7195\n",
       "lat_y             7195\n",
       "long_y            7195\n",
       "rating            7195\n",
       "review_count_y    7195\n",
       "site_y            7195\n",
       "dtype: int64"
      ]
     },
     "execution_count": 297,
     "metadata": {},
     "output_type": "execute_result"
    }
   ],
   "source": [
    "cb_fsq_yelp_vancouver.count()"
   ]
  },
  {
   "cell_type": "code",
   "execution_count": null,
   "metadata": {},
   "outputs": [],
   "source": [
    "#drop name from cb_vancouver\n",
    "#cb_vancouver = cb_vancouver.drop('name', axis=1)\n",
    "\n",
    "#join cb_fsq_yelp_vancouver and cb_vancouver through cb_id\n",
    "main_df = pd.merge(cb_fsq_yelp_vancouver, cb_vancouver, on='cb_id', how='outer')\n",
    "\n",
    "#main_df.head(20)"
   ]
  },
  {
   "cell_type": "code",
   "execution_count": 299,
   "metadata": {},
   "outputs": [
    {
     "data": {
      "text/plain": [
       "fsq_id            7195\n",
       "station           7195\n",
       "category          7195\n",
       "name_x            7195\n",
       "site_x            7195\n",
       "cb_id             7195\n",
       "review_count_x    7195\n",
       "postal_code       7195\n",
       "title             7195\n",
       "name_y            7195\n",
       "address_y         7195\n",
       "lat_y             7195\n",
       "long_y            7195\n",
       "rating            7195\n",
       "review_count_y    7195\n",
       "site_y            7195\n",
       "name              7195\n",
       "latitude          7195\n",
       "longitude         7195\n",
       "free_bikes        7195\n",
       "dtype: int64"
      ]
     },
     "execution_count": 299,
     "metadata": {},
     "output_type": "execute_result"
    }
   ],
   "source": [
    "#drop all rows where anything is unavailable\n",
    "\n",
    "main_df.count()"
   ]
  },
  {
   "cell_type": "markdown",
   "metadata": {},
   "source": [
    "Provide a visualization that you used as part of your EDA process. Explain the initial pattern or relationship you discoved through this visualization. "
   ]
  },
  {
   "cell_type": "code",
   "execution_count": 301,
   "metadata": {},
   "outputs": [],
   "source": [
    "# using matplotlib to plot the data\n",
    "import matplotlib.pyplot as plt"
   ]
  },
  {
   "cell_type": "code",
   "execution_count": 321,
   "metadata": {},
   "outputs": [],
   "source": [
    "#plot a bar chart to show difference between yelp and foursquare reviews\n",
    "#count fsq_id and store it in a variable as integer where fsq_id is not unavailable\n",
    "y1 = main_df[main_df['fsq_id'] != 'unavailable'].groupby('fsq_id').size().reset_index(name='count')\n",
    "#sum y1 and store it in a self\n",
    "y1 = y1['count'].sum()\n",
    "\n",
    "#count ratings and store it in a variable where ratings is not unavailable\n",
    "y2 = main_df[main_df['rating'] != 'unavailable'].groupby('rating').size().reset_index(name='count')\n",
    "y2 = y2['count'].sum()\n",
    "\n",
    "#x is total size of main_df\n",
    "x = main_df.groupby('cb_id').size().reset_index(name='count')\n",
    "x = x['count'].sum()\n",
    "\n",
    "y3 = y1+y2-x\n"
   ]
  },
  {
   "cell_type": "code",
   "execution_count": 324,
   "metadata": {},
   "outputs": [
    {
     "data": {
      "image/png": "[encoded data removed]",
      "text/plain": [
       "<Figure size 640x480 with 1 Axes>"
      ]
     },
     "metadata": {},
     "output_type": "display_data"
    }
   ],
   "source": [
    "\n",
    "#plot the bar chart y1 as foursquare, y2 as yelp, y3 as Both\n",
    "plt.bar(['Foursquare', 'Yelp', 'Both'], [y1, y2, y3], color=['red', 'green', 'blue'])\n",
    "plt.title('Foursquare vs Yelp')\n",
    "plt.xlabel('Reviews')\n",
    "plt.ylabel('Count')\n",
    "#show no of reviews for foursquare, yelp and both\n",
    "for i, v in enumerate([y1, y2, y3]):\n",
    "    plt.text(i, v, str(v), color='black', fontweight='bold')\n",
    "    \n",
    "plt.show()"
   ]
  },
  {
   "cell_type": "markdown",
   "metadata": {},
   "source": [
    "# Database"
   ]
  },
  {
   "cell_type": "markdown",
   "metadata": {},
   "source": [
    "Put all your results in an SQLite3 database (remember, SQLite stores its databases as files in your local machine - make sure to create your database in your project's data/ directory!)"
   ]
  },
  {
   "cell_type": "code",
   "execution_count": 326,
   "metadata": {},
   "outputs": [],
   "source": [
    "import sqlite3"
   ]
  },
  {
   "cell_type": "code",
   "execution_count": 327,
   "metadata": {},
   "outputs": [],
   "source": [
    "# create a sqlite3 database named 'vancouver.db'\n",
    "conn = sqlite3.connect('../data/vancouver.db')"
   ]
  },
  {
   "cell_type": "code",
   "execution_count": null,
   "metadata": {},
   "outputs": [],
   "source": [
    "# create a table cb_vancouver in vancouver.db\n",
    "cb_vancouver.to_sql('cb_vancouver', conn, if_exists='replace', index=False)\n"
   ]
  },
  {
   "cell_type": "code",
   "execution_count": 342,
   "metadata": {},
   "outputs": [
    {
     "data": {
      "text/plain": [
       "2410"
      ]
     },
     "execution_count": 342,
     "metadata": {},
     "output_type": "execute_result"
    }
   ],
   "source": [
    "# create a table cb_fsq_vancouver in vancouver.db\n",
    "cb_fsq_vancouver.to_sql('cb_fsq_vancouver', conn, if_exists='replace', index=False)\n"
   ]
  },
  {
   "cell_type": "code",
   "execution_count": 343,
   "metadata": {},
   "outputs": [
    {
     "data": {
      "text/plain": [
       "16023"
      ]
     },
     "execution_count": 343,
     "metadata": {},
     "output_type": "execute_result"
    }
   ],
   "source": [
    "# create a table cb_fsq_vancouver_tips in vancouver.db\n",
    "cb_fsq_vancouver_tips.to_sql('cb_fsq_vancouver_tips', conn, if_exists='replace', index=False)\n"
   ]
  },
  {
   "cell_type": "code",
   "execution_count": 344,
   "metadata": {},
   "outputs": [
    {
     "data": {
      "text/plain": [
       "4788"
      ]
     },
     "execution_count": 344,
     "metadata": {},
     "output_type": "execute_result"
    }
   ],
   "source": [
    "# create a table cb_yelp_vancouver in vancouver.db\n",
    "cb_yelp_vancouver.to_sql('cb_yelp_vancouver', conn, if_exists='replace', index=False)\n"
   ]
  },
  {
   "cell_type": "markdown",
   "metadata": {},
   "source": [
    "Look at the data before and after the join to validate your data."
   ]
  },
  {
   "cell_type": "code",
   "execution_count": 347,
   "metadata": {},
   "outputs": [
    {
     "data": {
      "text/plain": [
       "7195"
      ]
     },
     "execution_count": 347,
     "metadata": {},
     "output_type": "execute_result"
    }
   ],
   "source": [
    "# create table main_df in vancouver.db\n",
    "main_df.to_sql('main_df', conn, if_exists='replace', index=False)\n"
   ]
  }
 ],
 "metadata": {
  "kernelspec": {
   "display_name": "Python 3",
   "language": "python",
   "name": "python3"
  },
  "language_info": {
   "codemirror_mode": {
    "name": "ipython",
    "version": 3
   },
   "file_extension": ".py",
   "mimetype": "text/x-python",
   "name": "python",
   "nbconvert_exporter": "python",
   "pygments_lexer": "ipython3",
   "version": "3.9.13"
  }
 },
 "nbformat": 4,
 "nbformat_minor": 4
}
